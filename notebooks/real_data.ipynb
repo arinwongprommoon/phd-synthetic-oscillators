{
 "cells": [
  {
   "cell_type": "code",
   "execution_count": null,
   "id": "35144644-94e1-423a-844a-33c168c22570",
   "metadata": {},
   "outputs": [],
   "source": [
    "import os\n",
    "import sys\n",
    "module_path = os.path.abspath(os.path.join('..'))\n",
    "if module_path not in sys.path:\n",
    "    sys.path.append(module_path)\n",
    "    \n",
    "%reload_ext autoreload\n",
    "%autoreload 2\n",
    "%matplotlib inline"
   ]
  },
  {
   "cell_type": "markdown",
   "id": "b17e1474-8cc7-4386-bb31-4b34ddf3c9d6",
   "metadata": {},
   "source": [
    "Imports"
   ]
  },
  {
   "cell_type": "code",
   "execution_count": null,
   "id": "ecf2e9f3-8a84-4c1e-a8a5-9650163549fe",
   "metadata": {},
   "outputs": [],
   "source": [
    "import matplotlib.pyplot as plt\n",
    "import matplotlib.ticker as ticker\n",
    "import numpy as np\n",
    "import pandas as pd\n",
    "import scipy as sp\n",
    "import seaborn as sns\n",
    "\n",
    "from postprocessor.core.processes.findpeaks import findpeaks"
   ]
  },
  {
   "cell_type": "code",
   "execution_count": null,
   "id": "c8881588-bf8d-4338-93ea-9ed431463c50",
   "metadata": {},
   "outputs": [],
   "source": [
    "from src.utils import simple_median_plot\n",
    "from src.crosscorr import crosscorr\n",
    "from src.synthetic import sinusoid, fitzhugh_nagumo, gillespie_noise"
   ]
  },
  {
   "cell_type": "markdown",
   "id": "e3ec2924-a8ea-47aa-a406-32aceeb5a097",
   "metadata": {},
   "source": [
    "# Get std dev of simulated oscillators"
   ]
  },
  {
   "cell_type": "code",
   "execution_count": null,
   "id": "4ee56c8f-1ee9-4f08-97f6-72b1b36be18e",
   "metadata": {},
   "outputs": [],
   "source": [
    "std_sinusoid = np.sqrt(2)/2 #theoretical"
   ]
  },
  {
   "cell_type": "code",
   "execution_count": null,
   "id": "866ea67b-bc25-424c-b3e2-3cc273eea189",
   "metadata": {},
   "outputs": [],
   "source": [
    "fhn = fitzhugh_nagumo(timeaxis=np.linspace(0,500,500), ext_stimulus=0.4, tau=12.5, a=0.7, b=0.82)"
   ]
  },
  {
   "cell_type": "code",
   "execution_count": null,
   "id": "2b816633-0452-4646-bc66-d886d653cf2b",
   "metadata": {},
   "outputs": [],
   "source": [
    "std_fhn = np.std(fhn)"
   ]
  },
  {
   "cell_type": "markdown",
   "id": "a5595b0f-2bcf-4c00-93c2-00e8eabf59ac",
   "metadata": {},
   "source": [
    "# Load data"
   ]
  },
  {
   "cell_type": "markdown",
   "id": "f3d927aa-ca59-4705-ad64-63734d19051a",
   "metadata": {},
   "source": [
    "Load ACF"
   ]
  },
  {
   "cell_type": "code",
   "execution_count": null,
   "id": "9db826d3-ef3e-4e34-9adb-bbb9e272086f",
   "metadata": {},
   "outputs": [],
   "source": [
    "filepath = \"../data/raw/is26643_htb2mCherry_flavin_acf.csv\"\n",
    "autocorr_df = pd.read_csv(filepath, index_col=[0,1,2])\n",
    "autocorr_df = autocorr_df.dropna()"
   ]
  },
  {
   "cell_type": "code",
   "execution_count": null,
   "id": "2bf1c128-3c85-40a0-afbd-cdc96536aefd",
   "metadata": {},
   "outputs": [],
   "source": [
    "autocorr_df"
   ]
  },
  {
   "cell_type": "markdown",
   "id": "547708cc-5a69-4cb6-a6ed-c3f764eb978e",
   "metadata": {},
   "source": [
    "Load time series"
   ]
  },
  {
   "cell_type": "code",
   "execution_count": null,
   "id": "47d374fe-8451-4b2b-ae77-ba9c2da9df23",
   "metadata": {},
   "outputs": [],
   "source": [
    "timeseries_df = pd.read_csv(\"../data/raw/is26643_htb2mCherry_flavin_timeseries.csv\", index_col=[0,1,2])\n",
    "#timeseries_df = pd.read_csv(\"../data/raw/is26643_htb2mCherry_mCherry_timeseries.csv\", index_col=[0,1,2])\n",
    "#timeseries_df = pd.read_csv(\"../data/raw/is31594_fy4_timeseries.csv\", index_col=[0,1,2])\n",
    "\n",
    "timeseries_df = timeseries_df.dropna()"
   ]
  },
  {
   "cell_type": "code",
   "execution_count": null,
   "id": "263621cb-87b8-45bb-a0e4-84254671ed6e",
   "metadata": {},
   "outputs": [],
   "source": [
    "mean_std = timeseries_df.std().mean()"
   ]
  },
  {
   "cell_type": "code",
   "execution_count": null,
   "id": "cca0a5de-55fe-4388-ba99-f21106e192d9",
   "metadata": {},
   "outputs": [],
   "source": [
    "# Scale so std dev is equal to std dev of sinusoid\n",
    "timeseries_df *= (std_sinusoid)/(mean_std)"
   ]
  },
  {
   "cell_type": "code",
   "execution_count": null,
   "id": "0ca5ffbc-7dbb-4e80-bec8-f92317910394",
   "metadata": {},
   "outputs": [],
   "source": [
    "autocorr_df = crosscorr.as_function(\n",
    "    timeseries_df, stationary=False, normalised=True, only_pos=True\n",
    ")"
   ]
  },
  {
   "cell_type": "code",
   "execution_count": null,
   "id": "ffb96410-1a0b-431e-a296-0ef795562be4",
   "metadata": {},
   "outputs": [],
   "source": [
    "fig, ax = plt.subplots(figsize=(12,4))\n",
    "ax.plot(timeseries_df.iloc[0])\n",
    "ax.xaxis.set_major_locator(ticker.MultipleLocator(20))\n",
    "ax.set_xlabel(\"Time point\")\n",
    "ax.set_ylabel(\"Signal\")"
   ]
  },
  {
   "cell_type": "markdown",
   "id": "10619bcc-59f2-4eff-b23d-d47a05d0249f",
   "metadata": {},
   "source": [
    "# Draw ACF"
   ]
  },
  {
   "cell_type": "code",
   "execution_count": null,
   "id": "d3b75c89-5679-4c0a-a10d-468bb38a7c4e",
   "metadata": {},
   "outputs": [],
   "source": [
    "fig, ax = plt.subplots()\n",
    "\n",
    "# draw acf\n",
    "simple_median_plot(\n",
    "    autocorr_df,\n",
    "    xlabel=\"Lag (time points)\",\n",
    "    ylabel=\"Autocorrelation function\",\n",
    "    ax=ax,\n",
    ")\n",
    "# and axes\n",
    "plt.axhline(0, color=\"k\")\n",
    "plt.axvline(0, color=\"k\")"
   ]
  },
  {
   "cell_type": "markdown",
   "id": "390af9ac-8dd8-4c5f-ad39-c824044125e4",
   "metadata": {},
   "source": [
    "# Find peaks, troughs"
   ]
  },
  {
   "cell_type": "code",
   "execution_count": null,
   "id": "d157d671-0fac-486e-9427-34aa139883db",
   "metadata": {},
   "outputs": [],
   "source": [
    "# find peaks & troughs\n",
    "mean_acf_df = autocorr_df.mean().to_frame().T\n",
    "peaks_df = findpeaks.as_function(mean_acf_df)\n",
    "troughs_df = findpeaks.as_function(-mean_acf_df)\n",
    "\n",
    "# datatype conversions\n",
    "timeaxis = mean_acf_df.columns.to_numpy()\n",
    "timeaxis = timeaxis.astype(float)\n",
    "mean_acf = mean_acf_df.to_numpy()[0]\n",
    "peaks_mask = peaks_df.to_numpy()[0] != 0\n",
    "troughs_mask = troughs_df.to_numpy()[0] != 0"
   ]
  },
  {
   "cell_type": "markdown",
   "id": "679fd728-7106-4e72-9786-b9619cc34fe2",
   "metadata": {},
   "source": [
    "Draw locations of peaks & troughs"
   ]
  },
  {
   "cell_type": "code",
   "execution_count": null,
   "id": "85f7a5f6-747c-48f0-83b0-0d46271a5c8a",
   "metadata": {},
   "outputs": [],
   "source": [
    "# draw where peaks are\n",
    "fig, ax = plt.subplots()\n",
    "ax.plot(timeaxis, mean_acf)\n",
    "ax.scatter(timeaxis[peaks_mask], mean_acf[peaks_mask])\n",
    "ax.scatter(timeaxis[troughs_mask], mean_acf[troughs_mask])\n",
    "ax.xaxis.set_major_locator(ticker.MultipleLocator(20))\n",
    "ax.set_xlabel(\"Time point\")\n",
    "ax.set_ylabel(\"ACF\")"
   ]
  },
  {
   "cell_type": "markdown",
   "id": "5e9e8d73-5b43-4d9d-9829-53a61c408c36",
   "metadata": {},
   "source": [
    "# Estimate period"
   ]
  },
  {
   "cell_type": "code",
   "execution_count": null,
   "id": "89355226-0474-48f1-838b-a0d3f36a2216",
   "metadata": {},
   "outputs": [],
   "source": [
    "# Get location of first peak, as an estimate of period\n",
    "est_period = timeaxis[peaks_mask][0]\n",
    "print(est_period)"
   ]
  },
  {
   "cell_type": "markdown",
   "id": "3dd53a76-3366-4721-896b-1f7fda13d0ab",
   "metadata": {},
   "source": [
    "# Fit exponential"
   ]
  },
  {
   "cell_type": "markdown",
   "id": "756cd0ca-4718-48f5-9ebb-56636ed76328",
   "metadata": {},
   "source": [
    "Define functions (TODO: move to src)"
   ]
  },
  {
   "cell_type": "code",
   "execution_count": null,
   "id": "3766c32e-cba3-4b1b-b412-f27adb0e2e62",
   "metadata": {},
   "outputs": [],
   "source": [
    "def model_func(t, K, C):\n",
    "    return (1 - C) * np.exp(-K * t) + C\n",
    "\n",
    "\n",
    "def fit_exp_nonlinear(t, y, p0):\n",
    "    opt_parms, parm_cov = sp.optimize.curve_fit(model_func, t, y, p0, maxfev=1000)\n",
    "    K, C = opt_parms\n",
    "    return K, C\n",
    "\n",
    "\n",
    "def fit_mean(\n",
    "    array,\n",
    "    initial_K,\n",
    "    initial_C=0,\n",
    "):\n",
    "    # get mean time series\n",
    "    mean_df = array.mean().to_frame().T\n",
    "    timeaxis = mean_df.columns.to_numpy()\n",
    "    mean_acf = mean_df.to_numpy()[0]\n",
    "\n",
    "    # initial guess is the decay function in acf plot\n",
    "    initial_guess = [initial_K, initial_C]\n",
    "\n",
    "    # fit mean\n",
    "    est_coeffs = fit_exp_nonlinear(\n",
    "        timeaxis,\n",
    "        mean_acf,\n",
    "        p0=initial_guess,\n",
    "    )\n",
    "\n",
    "    return est_coeffs\n",
    "\n",
    "\n",
    "def fit_peak_trough(\n",
    "    array,\n",
    "    initial_K,\n",
    "    initial_C=0,\n",
    "):\n",
    "    \"\"\"\n",
    "    array: 2d numpy array\n",
    "    \"\"\"\n",
    "    # find peaks & troughs\n",
    "    mean_df = array.mean().to_frame().T\n",
    "    peaks_df = findpeaks.as_function(mean_df)\n",
    "    troughs_df = findpeaks.as_function(-mean_df)\n",
    "    # datatype conversions\n",
    "    timeaxis = mean_df.columns.to_numpy()\n",
    "    mean_acf = mean_df.to_numpy()[0]\n",
    "    peaks_mask = peaks_df.to_numpy()[0] != 0\n",
    "    troughs_mask = troughs_df.to_numpy()[0] != 0\n",
    "    # add (0,1) to datapoints\n",
    "    peaks_mask[0] = True\n",
    "    troughs_mask[0] = True\n",
    "\n",
    "    # initial guess is the decay function in acf plot\n",
    "    initial_guess = [initial_K, initial_C]\n",
    "\n",
    "    # fit peaks\n",
    "    upper_coeffs = fit_exp_nonlinear(\n",
    "        timeaxis[peaks_mask],\n",
    "        mean_acf[peaks_mask],\n",
    "        p0=initial_guess,\n",
    "    )\n",
    "    # fit troughs\n",
    "    lower_coeffs = fit_exp_nonlinear(\n",
    "        timeaxis[troughs_mask],\n",
    "        mean_acf[troughs_mask],\n",
    "        p0=initial_guess,\n",
    "    )\n",
    "\n",
    "    return upper_coeffs, lower_coeffs"
   ]
  },
  {
   "cell_type": "markdown",
   "id": "bf225fca-fc05-49a3-acbc-c44ee655ba80",
   "metadata": {},
   "source": [
    "Scale lag axis to make it in units of periods."
   ]
  },
  {
   "cell_type": "code",
   "execution_count": null,
   "id": "51e72f44-4706-4620-96f7-e6cd9b4c5f1e",
   "metadata": {},
   "outputs": [],
   "source": [
    "scaling_factor = 1 / est_period"
   ]
  },
  {
   "cell_type": "code",
   "execution_count": null,
   "id": "aedfc699-8a58-4ca5-ab58-186b24c41466",
   "metadata": {},
   "outputs": [],
   "source": [
    "timeaxis_scaled = timeaxis * scaling_factor"
   ]
  },
  {
   "cell_type": "code",
   "execution_count": null,
   "id": "c3c88ca7-c3f1-40ec-9390-fd49eef0226a",
   "metadata": {},
   "outputs": [],
   "source": [
    "autocorr_scaled = autocorr_df.copy()\n",
    "autocorr_scaled.columns = timeaxis_scaled"
   ]
  },
  {
   "cell_type": "markdown",
   "id": "e458ab6b-36a5-4446-a63a-15a464d88f07",
   "metadata": {},
   "source": [
    "Fit, with initial guess"
   ]
  },
  {
   "cell_type": "code",
   "execution_count": null,
   "id": "0e6db0d0-10b5-4686-ad92-15f195d286bf",
   "metadata": {},
   "outputs": [],
   "source": [
    "initial_K = 0.05\n",
    "upper_coeffs, lower_coeffs = fit_peak_trough(autocorr_scaled, initial_K=initial_K)\n",
    "est_coeffs = fit_mean(autocorr_scaled, initial_K=initial_K)"
   ]
  },
  {
   "cell_type": "code",
   "execution_count": null,
   "id": "565e7eb7-f0d7-4c21-b43e-bf7e85c067ee",
   "metadata": {},
   "outputs": [],
   "source": [
    "print(upper_coeffs)\n",
    "print(lower_coeffs)\n",
    "print(est_coeffs)"
   ]
  },
  {
   "cell_type": "markdown",
   "id": "388c0487-b3cf-4dfb-b4be-3e6c2f5f25db",
   "metadata": {},
   "source": [
    "Draw"
   ]
  },
  {
   "cell_type": "code",
   "execution_count": null,
   "id": "c0859e79-d955-4b74-96ec-0ad42643ab25",
   "metadata": {},
   "outputs": [],
   "source": [
    "upper_K, upper_C = upper_coeffs\n",
    "lower_K, lower_C = lower_coeffs\n",
    "est_K, est_C = est_coeffs\n",
    "\n",
    "upper_A = 1 - upper_C\n",
    "lower_A = 1 - lower_C\n",
    "est_A = 1 - est_C\n",
    "\n",
    "upper_func = model_func(timeaxis_scaled, upper_coeffs[0], upper_coeffs[1])\n",
    "lower_func = model_func(timeaxis_scaled, lower_coeffs[0], lower_coeffs[1])\n",
    "est_func = model_func(timeaxis_scaled, est_coeffs[0], est_coeffs[1])"
   ]
  },
  {
   "cell_type": "code",
   "execution_count": null,
   "id": "d1da8b21-6019-438c-8bcd-da68e3af7655",
   "metadata": {},
   "outputs": [],
   "source": [
    "plt.plot(timeaxis_scaled, mean_acf)\n",
    "plt.scatter(timeaxis_scaled[peaks_mask], mean_acf[peaks_mask])\n",
    "plt.scatter(timeaxis_scaled[troughs_mask], mean_acf[troughs_mask])\n",
    "plt.plot(timeaxis_scaled, est_func, label=\"fit to mean ACF\")\n",
    "plt.plot(timeaxis_scaled, upper_func, label=\"fit to peaks\")\n",
    "plt.plot(timeaxis_scaled, lower_func, label=\"fit to troughs\")\n",
    "plt.legend()\n",
    "plt.xlabel(\"Lag (in periods)\")\n",
    "plt.ylabel(\"Autocorrelation function\")\n",
    "\n",
    "print(f\"upper envelope: {upper_A:.4f} * exp(- {upper_K:.4f}) + {upper_C:.4f}\")\n",
    "print(f\"central: {est_A:.4f} * exp(- {est_K:.4f}) + {est_C:.4f}\")\n",
    "print(f\"lower envelope: {lower_A:.4f} * exp(- {lower_K:.4f}) + {lower_C:.4f}\")"
   ]
  },
  {
   "cell_type": "markdown",
   "id": "086e48f7-b3b6-4bae-bf81-5a826cbfbda1",
   "metadata": {},
   "source": [
    "# Decay rate/Death rate"
   ]
  },
  {
   "cell_type": "code",
   "execution_count": null,
   "id": "d4df7698-9b03-47ee-8a33-55d8b933840c",
   "metadata": {},
   "outputs": [],
   "source": [
    "est_K"
   ]
  },
  {
   "cell_type": "markdown",
   "id": "230453b5-2268-461c-9021-684eb235d05c",
   "metadata": {},
   "source": [
    "Load stats"
   ]
  },
  {
   "cell_type": "code",
   "execution_count": null,
   "id": "4712a14c-7eeb-42c4-94d8-fb0179318600",
   "metadata": {},
   "outputs": [],
   "source": [
    "deathrate_vs_decay = pd.read_csv(\"../data/interim/stat/sinusoid/deathrate_vs_decay.csv\")\n",
    "#deathrate_vs_decay = pd.read_csv(\"../data/interim/stat/fitzhughnagumo/deathrate_vs_decay.csv\")"
   ]
  },
  {
   "cell_type": "markdown",
   "id": "ddae121b-40fa-48e7-bc47-4f8ed433ecd0",
   "metadata": {},
   "source": [
    "Linear fit\n",
    "\n",
    "(here with extrapolation -- best practise is to generate Gillespie noise with the extreme deathrate found from real data)"
   ]
  },
  {
   "cell_type": "code",
   "execution_count": null,
   "id": "18dcd7b4-97d5-495f-9705-974e454165d1",
   "metadata": {},
   "outputs": [],
   "source": [
    "# Linear\n",
    "lin_coeffs = np.polyfit(deathrate_vs_decay.deathrate[:5], deathrate_vs_decay.D_central[:5], deg=1)\n",
    "bestfit_x = np.linspace(0, 0.45, 100)\n",
    "bestfit_y = lin_coeffs[1] + lin_coeffs[0] * bestfit_x"
   ]
  },
  {
   "cell_type": "code",
   "execution_count": null,
   "id": "d7946ba3-9497-456d-b9ed-ba86b5453743",
   "metadata": {},
   "outputs": [],
   "source": [
    "# Alternatively, force through origin\n",
    "slope, _, _, _ = np.linalg.lstsq(deathrate_vs_decay.deathrate[:,np.newaxis], deathrate_vs_decay.D_central)\n",
    "bestfit_x = np.linspace(0, 0.45, 100)\n",
    "bestfit_y = slope[0] * bestfit_x"
   ]
  },
  {
   "cell_type": "code",
   "execution_count": null,
   "id": "80641334-b382-427b-b2ff-5ffa517ee05e",
   "metadata": {},
   "outputs": [],
   "source": [
    "fig, ax = plt.subplots()\n",
    "ax.scatter(deathrate_vs_decay.deathrate, deathrate_vs_decay.D_central)\n",
    "ax.plot(bestfit_x, bestfit_y)\n",
    "#ax.set_xlim(0,0.06)\n",
    "#ax.set_ylim(0,0.1)"
   ]
  },
  {
   "cell_type": "markdown",
   "id": "2dc92185-3421-4001-afc4-34182cbd0aa2",
   "metadata": {},
   "source": [
    "Estimate death rate"
   ]
  },
  {
   "cell_type": "code",
   "execution_count": null,
   "id": "9f852829-3e43-48b3-b5ca-5b54fc7e3848",
   "metadata": {},
   "outputs": [],
   "source": [
    "est_d0 = (est_K - lin_coeffs[1])/lin_coeffs[0]\n",
    "print(est_d0)"
   ]
  },
  {
   "cell_type": "code",
   "execution_count": null,
   "id": "8b8a44ea-bf2c-409b-b82c-0ab1f7e6e486",
   "metadata": {},
   "outputs": [],
   "source": [
    "est_noise_timescale = 1/est_d0\n",
    "print(est_noise_timescale)"
   ]
  },
  {
   "cell_type": "markdown",
   "id": "062fef44-e34d-4243-87f2-6c79bd06e715",
   "metadata": {},
   "source": [
    "# y-displacement/Birth rate"
   ]
  },
  {
   "cell_type": "code",
   "execution_count": null,
   "id": "b3655f94-195a-4ede-9bf5-77a56463af1e",
   "metadata": {},
   "outputs": [],
   "source": [
    "upper_C"
   ]
  },
  {
   "cell_type": "markdown",
   "id": "70e0be78-f7fe-4819-afd8-244794d66374",
   "metadata": {},
   "source": [
    "Load stats"
   ]
  },
  {
   "cell_type": "code",
   "execution_count": null,
   "id": "f4a79280-293e-414c-91bf-7cf259975797",
   "metadata": {},
   "outputs": [],
   "source": [
    "birthrate_vs_ydispl = pd.read_csv(\"../data/interim/stat/sinusoid/birthrate_vs_ydispl.csv\")\n",
    "#birthrate_vs_ydispl = pd.read_csv(\"../data/interim/stat/fitzhughnagumo/birthrate_vs_ydispl.csv\")"
   ]
  },
  {
   "cell_type": "code",
   "execution_count": null,
   "id": "24c4fbfc-fc03-4f07-93e5-d2b47732d265",
   "metadata": {},
   "outputs": [],
   "source": [
    "birthrate_vs_ydispl"
   ]
  },
  {
   "cell_type": "markdown",
   "id": "698d5e43-44de-437b-b064-e79f4cd30881",
   "metadata": {},
   "source": [
    "Exponential fit"
   ]
  },
  {
   "cell_type": "code",
   "execution_count": null,
   "id": "40585295-09c0-4266-b15d-3835802d816a",
   "metadata": {},
   "outputs": [],
   "source": [
    "B = 0.039172\n",
    "b_x = birthrate_vs_ydispl.noise_amp\n",
    "b_y = birthrate_vs_ydispl.C_upper - B"
   ]
  },
  {
   "cell_type": "code",
   "execution_count": null,
   "id": "3f321fa6-6eaf-489b-9186-c2de44d57943",
   "metadata": {},
   "outputs": [],
   "source": [
    "# Linear\n",
    "exp_coeffs = np.polyfit(b_x[1:11], np.log(b_y)[1:11], deg=1)\n",
    "bestfit_x = np.linspace(1, 300, 100)\n",
    "bestfit_y = exp_coeffs[1] + exp_coeffs[0] * bestfit_x"
   ]
  },
  {
   "cell_type": "code",
   "execution_count": null,
   "id": "269f0448-080e-4b86-a7d0-3b18c7671872",
   "metadata": {},
   "outputs": [],
   "source": [
    "fig, ax = plt.subplots()\n",
    "ax.scatter(b_x, np.log(b_y))\n",
    "ax.plot(bestfit_x, bestfit_y)"
   ]
  },
  {
   "cell_type": "code",
   "execution_count": null,
   "id": "efa6e91d-b99d-425b-8917-95448b6c26bc",
   "metadata": {},
   "outputs": [],
   "source": [
    "fig, ax = plt.subplots()\n",
    "bestfit_exp = np.exp(exp_coeffs[1]) * np.exp(exp_coeffs[0] * bestfit_x)\n",
    "ax.scatter(b_x, b_y)\n",
    "ax.plot(bestfit_x, bestfit_exp)"
   ]
  },
  {
   "cell_type": "markdown",
   "id": "e521db44-017b-40c7-b7b5-1b3b7a0394fc",
   "metadata": {},
   "source": [
    "Estimate birth rate"
   ]
  },
  {
   "cell_type": "code",
   "execution_count": null,
   "id": "d3abedb7-e385-4b43-bb36-6fee2685b812",
   "metadata": {},
   "outputs": [],
   "source": [
    "est_noise_amp = (np.log(upper_C) - exp_coeffs[1])/exp_coeffs[0]\n",
    "print(est_noise_amp)"
   ]
  },
  {
   "cell_type": "code",
   "execution_count": null,
   "id": "4d581f21-22e2-4813-98b6-828c8114d72e",
   "metadata": {},
   "outputs": [],
   "source": [
    "est_k0 = est_noise_amp * est_d0\n",
    "print(est_k0)"
   ]
  },
  {
   "cell_type": "markdown",
   "id": "d33ec077-e3ee-4253-9c40-24d7aadbe542",
   "metadata": {},
   "source": [
    "# Simulate with estimated noise parameters"
   ]
  },
  {
   "cell_type": "code",
   "execution_count": null,
   "id": "6ca62218-7e01-4ac9-b068-bdafe45691b1",
   "metadata": {},
   "outputs": [],
   "source": [
    "timeaxis_sim = np.linspace(0, 283, 284)"
   ]
  },
  {
   "cell_type": "code",
   "execution_count": null,
   "id": "d02b8664-2c56-4e5f-945d-28182c7755a0",
   "metadata": {},
   "outputs": [],
   "source": [
    "signal = sinusoid(timeaxis_sim, amp=np.sqrt(2), freq=1/19, phase=0)"
   ]
  },
  {
   "cell_type": "code",
   "execution_count": null,
   "id": "21ac506f-5af4-4855-88f2-abddd3deb47e",
   "metadata": {},
   "outputs": [],
   "source": [
    "fig, ax = plt.subplots(figsize=(12,4))\n",
    "ax.plot(signal)"
   ]
  },
  {
   "cell_type": "code",
   "execution_count": null,
   "id": "56acd89a-877a-412c-ab79-c3ac84c75105",
   "metadata": {},
   "outputs": [],
   "source": [
    "noise = gillespie_noise(\n",
    "    num_timeseries=1,\n",
    "    num_timepoints=284,\n",
    "    noise_amp=est_noise_amp,\n",
    "    noise_timescale=est_noise_timescale,\n",
    "    time_final=7500,\n",
    "    grid_num_intervals=5000,\n",
    ")"
   ]
  },
  {
   "cell_type": "code",
   "execution_count": null,
   "id": "a2c787a9-4de0-4a1e-a9f5-d48d14ba462c",
   "metadata": {},
   "outputs": [],
   "source": [
    "noise = gillespie_noise(\n",
    "    num_timeseries=1,\n",
    "    num_timepoints=500,\n",
    "    noise_amp=100,\n",
    "    noise_timescale=20,\n",
    "    time_final=7500,\n",
    "    grid_num_intervals=5000,\n",
    ")"
   ]
  },
  {
   "cell_type": "code",
   "execution_count": null,
   "id": "0eca02c7-7dd2-492a-935f-966540064fa9",
   "metadata": {},
   "outputs": [],
   "source": [
    "fig, ax = plt.subplots(figsize=(12,4))\n",
    "ax.plot(noise[0])"
   ]
  },
  {
   "cell_type": "code",
   "execution_count": null,
   "id": "66399206-6a44-4bb3-9e6f-b79324163e31",
   "metadata": {},
   "outputs": [],
   "source": [
    "sim = 3 * signal + noise[0]"
   ]
  },
  {
   "cell_type": "code",
   "execution_count": null,
   "id": "8d613f78-1717-4680-bb5f-ad828d1f4c7c",
   "metadata": {},
   "outputs": [],
   "source": [
    "fig, ax = plt.subplots(figsize=(12,4))\n",
    "ax.plot(sim)"
   ]
  }
 ],
 "metadata": {
  "kernelspec": {
   "display_name": "synthosc",
   "language": "python",
   "name": "synthosc"
  },
  "language_info": {
   "codemirror_mode": {
    "name": "ipython",
    "version": 3
   },
   "file_extension": ".py",
   "mimetype": "text/x-python",
   "name": "python",
   "nbconvert_exporter": "python",
   "pygments_lexer": "ipython3",
   "version": "3.8.14"
  }
 },
 "nbformat": 4,
 "nbformat_minor": 5
}
