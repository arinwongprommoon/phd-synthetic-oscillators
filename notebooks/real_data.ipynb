{
 "cells": [
  {
   "cell_type": "code",
   "execution_count": null,
   "id": "35144644-94e1-423a-844a-33c168c22570",
   "metadata": {},
   "outputs": [],
   "source": [
    "import os\n",
    "import sys\n",
    "module_path = os.path.abspath(os.path.join('..'))\n",
    "if module_path not in sys.path:\n",
    "    sys.path.append(module_path)\n",
    "    \n",
    "%reload_ext autoreload\n",
    "%autoreload 2\n",
    "%matplotlib inline"
   ]
  },
  {
   "cell_type": "markdown",
   "id": "b17e1474-8cc7-4386-bb31-4b34ddf3c9d6",
   "metadata": {},
   "source": [
    "Imports"
   ]
  },
  {
   "cell_type": "code",
   "execution_count": null,
   "id": "ecf2e9f3-8a84-4c1e-a8a5-9650163549fe",
   "metadata": {},
   "outputs": [],
   "source": [
    "import matplotlib.pyplot as plt\n",
    "import matplotlib.ticker as ticker\n",
    "import numpy as np\n",
    "import pandas as pd\n",
    "import scipy as sp\n",
    "import seaborn as sns\n",
    "\n",
    "from postprocessor.core.processes.findpeaks import findpeaks"
   ]
  },
  {
   "cell_type": "code",
   "execution_count": null,
   "id": "c8881588-bf8d-4338-93ea-9ed431463c50",
   "metadata": {},
   "outputs": [],
   "source": [
    "from src.utils import simple_median_plot"
   ]
  },
  {
   "cell_type": "markdown",
   "id": "a5595b0f-2bcf-4c00-93c2-00e8eabf59ac",
   "metadata": {},
   "source": [
    "# Load data"
   ]
  },
  {
   "cell_type": "code",
   "execution_count": null,
   "id": "9db826d3-ef3e-4e34-9adb-bbb9e272086f",
   "metadata": {},
   "outputs": [],
   "source": [
    "filepath = \"../data/raw/is26643_htb2mCherry_flavin_acf.csv\"\n",
    "autocorr_df = pd.read_csv(filepath, index_col=[0,1,2])\n",
    "autocorr_df = acf_df.dropna()"
   ]
  },
  {
   "cell_type": "code",
   "execution_count": null,
   "id": "2bf1c128-3c85-40a0-afbd-cdc96536aefd",
   "metadata": {},
   "outputs": [],
   "source": [
    "autocorr_df"
   ]
  },
  {
   "cell_type": "markdown",
   "id": "10619bcc-59f2-4eff-b23d-d47a05d0249f",
   "metadata": {},
   "source": [
    "# Draw ACF"
   ]
  },
  {
   "cell_type": "code",
   "execution_count": null,
   "id": "d3b75c89-5679-4c0a-a10d-468bb38a7c4e",
   "metadata": {},
   "outputs": [],
   "source": [
    "fig, ax = plt.subplots()\n",
    "\n",
    "# draw acf\n",
    "simple_median_plot(\n",
    "    autocorr_df,\n",
    "    xlabel=\"Lag (time points)\",\n",
    "    ylabel=\"Autocorrelation function\",\n",
    "    ax=ax,\n",
    ")\n",
    "# and axes\n",
    "plt.axhline(0, color=\"k\")\n",
    "plt.axvline(0, color=\"k\")"
   ]
  },
  {
   "cell_type": "markdown",
   "id": "5e9e8d73-5b43-4d9d-9829-53a61c408c36",
   "metadata": {},
   "source": [
    "# Estimate period"
   ]
  },
  {
   "cell_type": "code",
   "execution_count": null,
   "id": "55e56d31-d971-4d26-9a6d-5fa003bba5da",
   "metadata": {},
   "outputs": [],
   "source": [
    "# find peaks\n",
    "mean_acf_df = autocorr_df.mean().to_frame().T\n",
    "peaks_df = findpeaks.as_function(mean_acf_df)\n",
    "\n",
    "# datatype conversions\n",
    "timeaxis = mean_acf_df.columns.to_numpy()\n",
    "mean_acf = mean_acf_df.to_numpy()[0]\n",
    "peaks_mask = peaks_df.to_numpy()[0] != 0"
   ]
  },
  {
   "cell_type": "code",
   "execution_count": null,
   "id": "df6bfb3e-c456-4d4e-9f1e-a4ea356b5901",
   "metadata": {},
   "outputs": [],
   "source": [
    "# draw where peaks are\n",
    "fig, ax = plt.subplots()\n",
    "ax.plot(timeaxis, mean_acf)\n",
    "ax.scatter(timeaxis[peaks_mask], mean_acf[peaks_mask])\n",
    "ax.xaxis.set_major_locator(ticker.MultipleLocator(20))\n",
    "ax.set_xlabel(\"Time point\")\n",
    "ax.set_ylabel(\"ACF\")"
   ]
  },
  {
   "cell_type": "code",
   "execution_count": null,
   "id": "89355226-0474-48f1-838b-a0d3f36a2216",
   "metadata": {},
   "outputs": [],
   "source": [
    "# Get location of first peak, as an estimate of period\n",
    "print(timeaxis[peaks_mask][0])"
   ]
  }
 ],
 "metadata": {
  "kernelspec": {
   "display_name": "synthosc",
   "language": "python",
   "name": "synthosc"
  },
  "language_info": {
   "codemirror_mode": {
    "name": "ipython",
    "version": 3
   },
   "file_extension": ".py",
   "mimetype": "text/x-python",
   "name": "python",
   "nbconvert_exporter": "python",
   "pygments_lexer": "ipython3",
   "version": "3.8.14"
  }
 },
 "nbformat": 4,
 "nbformat_minor": 5
}
