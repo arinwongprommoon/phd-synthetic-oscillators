{
 "cells": [
  {
   "cell_type": "code",
   "execution_count": null,
   "id": "57b1ff01-6bf8-4533-b4f9-d67c6eb28396",
   "metadata": {},
   "outputs": [],
   "source": [
    "import os\n",
    "import sys\n",
    "module_path = os.path.abspath(os.path.join('..'))\n",
    "if module_path not in sys.path:\n",
    "    sys.path.append(module_path)\n",
    "    \n",
    "%reload_ext autoreload\n",
    "%autoreload 2\n",
    "%matplotlib inline"
   ]
  },
  {
   "cell_type": "code",
   "execution_count": null,
   "id": "39473233",
   "metadata": {
    "lines_to_next_cell": 2,
    "title": "Import requirements"
   },
   "outputs": [],
   "source": [
    "import matplotlib.pyplot as plt\n",
    "import numpy as np\n",
    "import pandas as pd\n",
    "import scipy as sp\n",
    "import seaborn as sns\n",
    "from postprocessor.core.processes.findpeaks import findpeaks\n",
    "\n",
    "# from postprocessor.core.multisignal.crosscorr import crosscorr\n",
    "from src.crosscorr import crosscorr\n",
    "from src.synthetic import gillespie_noise, sinusoid\n",
    "from src.utils import simple_median_plot"
   ]
  },
  {
   "cell_type": "markdown",
   "id": "1e0b131d",
   "metadata": {},
   "source": [
    "GENERATE SIGNALS & COMPUTATIONS"
   ]
  },
  {
   "cell_type": "code",
   "execution_count": null,
   "id": "853cb9b8",
   "metadata": {},
   "outputs": [],
   "source": [
    "# Parameters\n",
    "num_timeseries = 100\n",
    "timeaxis = np.linspace(0, 500, 500)\n",
    "noise_timescale = 20\n",
    "noise_amp = 100\n",
    "\n",
    "# Array of sinusoids, random phases\n",
    "sinusoid_outofphase_array = np.empty((num_timeseries, len(timeaxis)), dtype=float)\n",
    "for row_index in range(num_timeseries):\n",
    "    phase = np.random.random() * 2 * np.pi\n",
    "    sinusoid_outofphase_array[row_index] = sinusoid(\n",
    "        timeaxis=timeaxis, amp=1, freq=0.03, phase=phase\n",
    "    )\n",
    "\n",
    "# Array of Gillespie noise\n",
    "gill_time_final = 7500\n",
    "gill_num_intervals = 5000\n",
    "# gill_noise_array = gillespie_noise(\n",
    "#    num_timeseries=num_timeseries,\n",
    "#    num_timepoints=len(timeaxis),\n",
    "#    noise_timescale=noise_timescale,\n",
    "#    noise_amp=noise_amp,\n",
    "#    time_final=gill_time_final,\n",
    "#    grid_num_intervals=gill_num_intervals,\n",
    "# )\n",
    "\n",
    "# Filename generator\n",
    "deathrate = 1 / noise_timescale\n",
    "birthrate = noise_amp / noise_timescale\n",
    "deathrate_str = str(deathrate).replace(\".\", \"p\")\n",
    "birthrate_str = str(birthrate).replace(\".\", \"p\")\n",
    "gill_noise_filename = \"gillespienoise_k\" + birthrate_str + \"_d\" + deathrate_str + \".csv\"\n",
    "# LOAD noise array\n",
    "gill_noise_array = np.genfromtxt(gill_noise_filename, delimiter=\",\")\n",
    "# gill_noise_array = gill_noise_array[:num_timeseries,:]\n",
    "\n",
    "\n",
    "# Assign signal arrays\n",
    "signal_array1 = sinusoid_outofphase_array\n",
    "# Assign noise arrays\n",
    "noise_array1 = gill_noise_array\n",
    "# Add signal and noise\n",
    "signal_array1 = signal_array1 + noise_array1\n",
    "\n",
    "# Construct dataframes for correlation processes\n",
    "signal_df1 = pd.DataFrame(signal_array1)\n",
    "\n",
    "# Autocorrelation\n",
    "autocorr_result = crosscorr.as_function(\n",
    "    signal_df1, stationary=False, normalised=True, only_pos=True\n",
    ")\n",
    "# Mean across replicates\n",
    "mean_across_replicates = np.nanmean(signal_array1, axis=0).reshape(\n",
    "    (1, signal_array1.shape[1])\n",
    ")\n",
    "mean_across_replicates = mean_across_replicates.T"
   ]
  },
  {
   "cell_type": "markdown",
   "id": "1ad552fb",
   "metadata": {},
   "source": [
    "PLOTTING"
   ]
  },
  {
   "cell_type": "markdown",
   "id": "4866eafb",
   "metadata": {},
   "source": [
    "input data"
   ]
  },
  {
   "cell_type": "code",
   "execution_count": null,
   "id": "6701dd53",
   "metadata": {},
   "outputs": [],
   "source": [
    "sns.heatmap(signal_df1)"
   ]
  },
  {
   "cell_type": "markdown",
   "id": "f67a9ba0",
   "metadata": {},
   "source": [
    "gillespie noise"
   ]
  },
  {
   "cell_type": "code",
   "execution_count": null,
   "id": "4b5d9bdc",
   "metadata": {},
   "outputs": [],
   "source": [
    "gill_array = signal_array1\n",
    "fig, ax = plt.subplots(figsize=(12, 4))\n",
    "ax.plot(\n",
    "    mean_across_replicates,\n",
    "    linewidth=3,\n",
    "    label=f\"mean across {gill_array.shape[0]} replicates\",\n",
    ")\n",
    "ax.plot(gill_array[0], linewidth=1, label=\"replicate 1\")\n",
    "ax.plot(gill_array[1], linewidth=1, label=\"replicate 2\")\n",
    "ax.set_xlabel(\"Time point\")\n",
    "ax.set_ylabel(\"Signal\")\n",
    "fig.legend()"
   ]
  },
  {
   "cell_type": "markdown",
   "id": "83be5810",
   "metadata": {},
   "source": [
    "acf of signals with gillespie noise, with options"
   ]
  },
  {
   "cell_type": "code",
   "execution_count": null,
   "id": "620ffa18",
   "metadata": {},
   "outputs": [],
   "source": [
    "fit_exp_decay = True\n",
    "scale_lag_by_pd = True\n",
    "freq = 0.03\n",
    "\n",
    "fig, ax = plt.subplots()\n",
    "\n",
    "# scale lag axis by sinusoid period\n",
    "autocorr_result_scaled = autocorr_result.copy()\n",
    "if scale_lag_by_pd:\n",
    "    freq = freq\n",
    "    xlabel = \"Lag (periods)\"\n",
    "    plt.vlines(x=[1, 2, 3, 4], ymin=-1, ymax=1, ls=\"--\")\n",
    "else:\n",
    "    freq = 1\n",
    "    xlabel = \"Lag (time points)\"\n",
    "autocorr_result_scaled.columns *= freq\n",
    "\n",
    "# fit exp decay\n",
    "if fit_exp_decay:\n",
    "    decayrate = (gill_time_final / (gill_num_intervals - 1)) * (1 / noise_timescale)\n",
    "    t = autocorr_result.columns.to_numpy()\n",
    "    decay_function = np.exp(-(decayrate) * t)\n",
    "    ax.plot(t * freq, decay_function, color=\"r\")\n",
    "\n",
    "# draw acf\n",
    "simple_median_plot(\n",
    "    autocorr_result_scaled,\n",
    "    xlabel=xlabel,\n",
    "    ylabel=\"Autocorrelation function\",\n",
    "    ax=ax,\n",
    ")\n",
    "# and axes\n",
    "plt.axhline(0, color=\"k\")\n",
    "plt.axvline(0, color=\"k\")"
   ]
  },
  {
   "cell_type": "markdown",
   "id": "7d1208d3",
   "metadata": {},
   "source": [
    "at longer lags, fewer data points are used to compute acf, and thus the std dev across replicate acfs at those points are greater"
   ]
  },
  {
   "cell_type": "code",
   "execution_count": null,
   "id": "42ff5743",
   "metadata": {},
   "outputs": [],
   "source": [
    "lag = np.linspace(0, 499, 500)\n",
    "num_datapoints = signal_array1.shape[1] * np.linspace(500, 1, 500)\n",
    "acf_variation = np.std(autocorr_result)\n",
    "\n",
    "fig, ax = plt.subplots()\n",
    "ax.plot(num_datapoints, acf_variation)\n",
    "ax.set_xlabel(\"Number of data points used at lag value\")\n",
    "ax.set_ylabel(\"Standard deviation of\\nautocorrelation function values at lag value\")"
   ]
  },
  {
   "cell_type": "markdown",
   "id": "7ff07f9f",
   "metadata": {},
   "source": [
    "variation between acfs, expressed as area the curve of std dev change over lag time"
   ]
  },
  {
   "cell_type": "code",
   "execution_count": null,
   "id": "db7a42da",
   "metadata": {},
   "outputs": [],
   "source": [
    "std_array = autocorr_result.std(axis=0)\n",
    "plt.plot(std_array)\n",
    "plt.xlabel(\"Lag (time point)\")\n",
    "plt.ylabel(\"Standard deviation\")\n",
    "auc = np.trapz(std_array)\n",
    "print(auc)"
   ]
  },
  {
   "cell_type": "markdown",
   "id": "f9eb4650",
   "metadata": {},
   "source": [
    "envelope function"
   ]
  },
  {
   "cell_type": "code",
   "execution_count": null,
   "id": "65969ffc",
   "metadata": {},
   "outputs": [],
   "source": [
    "# find peaks & troughs\n",
    "mean_acf_df = autocorr_result.mean().to_frame().T\n",
    "peaks_df = findpeaks.as_function(mean_acf_df)\n",
    "troughs_df = findpeaks.as_function(-mean_acf_df)\n",
    "\n",
    "# datatype conversions\n",
    "timeaxis = mean_acf_df.columns.to_numpy()\n",
    "mean_acf = mean_acf_df.to_numpy()[0]\n",
    "peaks_mask = peaks_df.to_numpy()[0] != 0\n",
    "troughs_mask = troughs_df.to_numpy()[0] != 0\n",
    "\n",
    "# add (0,1) to datapoints\n",
    "peaks_mask[0] = True\n",
    "troughs_mask[0] = True"
   ]
  },
  {
   "cell_type": "markdown",
   "id": "de616535",
   "metadata": {},
   "source": [
    "option: non-linear fit"
   ]
  },
  {
   "cell_type": "code",
   "execution_count": null,
   "id": "5c1582c7",
   "metadata": {},
   "outputs": [],
   "source": [
    "# https://stackoverflow.com/questions/3938042/fitting-exponential-decay-with-no-initial-guessing\n",
    "def model_func(t, A, K, C):\n",
    "    return A * np.exp(-K * t) + C\n",
    "\n",
    "\n",
    "def fit_exp_nonlinear(t, y, p0):\n",
    "    opt_parms, parm_cov = sp.optimize.curve_fit(model_func, t, y, p0, maxfev=1000)\n",
    "    A, K, C = opt_parms\n",
    "    return A, K, C\n",
    "\n",
    "\n",
    "# initial guess is the decay function in acf plot\n",
    "central_decay_rate = (gill_time_final / (gill_num_intervals - 1)) * (\n",
    "    1 / noise_timescale\n",
    ")\n",
    "initial_A = 1\n",
    "initial_K = central_decay_rate\n",
    "initial_C = 0\n",
    "initial_guess = [initial_A, initial_K, initial_C]\n",
    "guess_func = model_func(timeaxis, initial_A, initial_K, initial_C)\n",
    "\n",
    "# fit peaks\n",
    "upper_A, upper_K, upper_C = fit_exp_nonlinear(\n",
    "    timeaxis[peaks_mask],\n",
    "    mean_acf[peaks_mask],\n",
    "    p0=initial_guess,\n",
    ")\n",
    "upper_func = model_func(timeaxis, upper_A, upper_K, upper_C)\n",
    "\n",
    "# fit troughs\n",
    "lower_A, lower_K, lower_C = fit_exp_nonlinear(\n",
    "    timeaxis[troughs_mask],\n",
    "    mean_acf[troughs_mask],\n",
    "    p0=initial_guess,\n",
    ")\n",
    "lower_func = model_func(timeaxis, lower_A, lower_K, lower_C)"
   ]
  },
  {
   "cell_type": "markdown",
   "id": "f8c87f97",
   "metadata": {},
   "source": [
    "option: linear fit, using C estimated from non-linear fit"
   ]
  },
  {
   "cell_type": "code",
   "execution_count": null,
   "id": "809a0676",
   "metadata": {},
   "outputs": [],
   "source": [
    "# https://stackoverflow.com/questions/3938042/fitting-exponential-decay-with-no-initial-guessing\n",
    "def model_func(t, A, K, C):\n",
    "    return A * np.exp(-K * t) + C\n",
    "\n",
    "\n",
    "def fit_exp_linear(t, y, C=0):\n",
    "    y = y - C\n",
    "    y = np.log(y)\n",
    "    K, A_log = np.polyfit(t, y, 1)\n",
    "    A = np.exp(A_log)\n",
    "    return A, K\n",
    "\n",
    "\n",
    "# initial guess is the decay function in acf plot\n",
    "central_decay_rate = (gill_time_final / (gill_num_intervals - 1)) * (\n",
    "    1 / noise_timescale\n",
    ")\n",
    "initial_A = 1\n",
    "initial_K = central_decay_rate\n",
    "initial_C = 0\n",
    "initial_guess = [initial_A, initial_K, initial_C]\n",
    "guess_func = model_func(timeaxis, initial_A, initial_K, initial_C)\n",
    "\n",
    "# fit peaks\n",
    "upper_A, upper_K = fit_exp_linear(\n",
    "    timeaxis[peaks_mask],\n",
    "    mean_acf[peaks_mask],\n",
    "    C=upper_C,\n",
    ")\n",
    "upper_func = model_func(timeaxis, upper_A, upper_K, upper_C)\n",
    "\n",
    "# fit troughs\n",
    "lower_A, lower_K = fit_exp_linear(\n",
    "    timeaxis[troughs_mask],\n",
    "    mean_acf[troughs_mask],\n",
    "    C=lower_C,\n",
    ")\n",
    "lower_func = model_func(timeaxis, lower_A, lower_K, lower_C)"
   ]
  },
  {
   "cell_type": "markdown",
   "id": "4d893d3e",
   "metadata": {},
   "source": [
    "option: fewer params: $y(t) = (1 - C)e^{-kt} + C$"
   ]
  },
  {
   "cell_type": "code",
   "execution_count": null,
   "id": "d76b8e01",
   "metadata": {},
   "outputs": [],
   "source": [
    "def model_func(t, K, C):\n",
    "    return (1 - C) * np.exp(-K * t) + C\n",
    "\n",
    "\n",
    "def fit_exp_nonlinear(t, y, p0):\n",
    "    opt_parms, parm_cov = sp.optimize.curve_fit(model_func, t, y, p0, maxfev=1000)\n",
    "    K, C = opt_parms\n",
    "    return K, C\n",
    "\n",
    "\n",
    "# initial guess is the decay function in acf plot\n",
    "central_decay_rate = (gill_time_final / (gill_num_intervals - 1)) * (\n",
    "    1 / noise_timescale\n",
    ")\n",
    "initial_K = central_decay_rate\n",
    "initial_C = 0\n",
    "initial_guess = [initial_K, initial_C]\n",
    "guess_func = model_func(timeaxis, initial_K, initial_C)\n",
    "\n",
    "# fit peaks\n",
    "upper_K, upper_C = fit_exp_nonlinear(\n",
    "    timeaxis[peaks_mask],\n",
    "    mean_acf[peaks_mask],\n",
    "    p0=initial_guess,\n",
    ")\n",
    "upper_func = model_func(timeaxis, upper_K, upper_C)\n",
    "\n",
    "# fit troughs\n",
    "lower_K, lower_C = fit_exp_nonlinear(\n",
    "    timeaxis[troughs_mask],\n",
    "    mean_acf[troughs_mask],\n",
    "    p0=initial_guess,\n",
    ")\n",
    "lower_func = model_func(timeaxis, lower_K, lower_C)\n",
    "\n",
    "initial_A = 1 - initial_C\n",
    "upper_A = 1 - upper_C\n",
    "lower_A = 1 - lower_C"
   ]
  },
  {
   "cell_type": "markdown",
   "id": "7e0f002b",
   "metadata": {},
   "source": [
    "option: fit to mean acf rather than peaks/troughs"
   ]
  },
  {
   "cell_type": "code",
   "execution_count": null,
   "id": "5ed928dc",
   "metadata": {},
   "outputs": [],
   "source": [
    "# initial guess is the decay function in acf plot\n",
    "central_decay_rate = (gill_time_final / (gill_num_intervals - 1)) * (\n",
    "    1 / noise_timescale\n",
    ")\n",
    "initial_K = central_decay_rate\n",
    "initial_C = 0\n",
    "initial_guess = [initial_K, initial_C]\n",
    "guess_func = model_func(timeaxis, initial_K, initial_C)\n",
    "\n",
    "# fit mean\n",
    "est_K, est_C = fit_exp_nonlinear(\n",
    "    timeaxis,\n",
    "    mean_acf,\n",
    "    p0=initial_guess,\n",
    ")\n",
    "est_func = model_func(timeaxis, est_K, est_C)\n",
    "\n",
    "initial_A = 1 - initial_C\n",
    "est_A = 1 - est_C"
   ]
  },
  {
   "cell_type": "markdown",
   "id": "2a26c7aa",
   "metadata": {},
   "source": [
    "plotting"
   ]
  },
  {
   "cell_type": "code",
   "execution_count": null,
   "id": "bc8ee0e9",
   "metadata": {},
   "outputs": [],
   "source": [
    "plt.plot(timeaxis, mean_acf)\n",
    "plt.scatter(timeaxis[peaks_mask], mean_acf[peaks_mask])\n",
    "plt.scatter(timeaxis[troughs_mask], mean_acf[troughs_mask])\n",
    "plt.plot(timeaxis, guess_func, label=\"theoretical decay function\")\n",
    "plt.plot(timeaxis, est_func, label=\"fit to mean ACF\")\n",
    "plt.plot(timeaxis, upper_func, label=\"fit to peaks\")\n",
    "plt.plot(timeaxis, lower_func, label=\"fit to troughs\")\n",
    "plt.legend()\n",
    "plt.xlabel(\"Lag (time points)\")\n",
    "plt.ylabel(\"Autocorrelation function\")\n",
    "\n",
    "print(\n",
    "    f\"theoretical decay function: {initial_A:.4f} * exp(- {initial_K:.4f}) + {initial_C:.4f}\"\n",
    ")\n",
    "print(f\"upper envelope: {upper_A:.4f} * exp(- {upper_K:.4f}) + {upper_C:.4f}\")\n",
    "print(f\"lower envelope: {lower_A:.4f} * exp(- {lower_K:.4f}) + {lower_C:.4f}\")\n",
    "\n",
    "residuals = mean_acf - est_func\n",
    "ss_res = np.sum(residuals**2)\n",
    "print(f\"residual sum of squares: {ss_res:.4f}\")"
   ]
  },
  {
   "cell_type": "code",
   "execution_count": null,
   "id": "46ac3513",
   "metadata": {},
   "outputs": [],
   "source": [
    "from scipy.signal import periodogram\n",
    "\n",
    "\n",
    "def fft(timeseries):\n",
    "    freqs, power = periodogram(\n",
    "        timeseries,\n",
    "        fs=1,\n",
    "        nfft=len(timeseries),\n",
    "        return_onesided=True,\n",
    "        scaling=\"spectrum\",\n",
    "    )\n",
    "    return freqs, power\n",
    "\n",
    "\n",
    "osc = mean_acf - est_func\n",
    "freqs, power = fft(osc)\n",
    "amp = np.sqrt(2 * max(power))\n",
    "\n",
    "fig_0, ax_0 = plt.subplots()\n",
    "ax_0.plot(osc)\n",
    "ax_0.hlines(y=[-amp, amp], xmin=0, xmax=len(osc), color=\"r\", linestyle=\"--\")\n",
    "ax_0.set_title(\"Oscillations in acf\")\n",
    "ax_0.set_xlabel(\"Lag\")\n",
    "ax_0.set_ylabel(\"Deviation of mean acf from fitted exponential\")\n",
    "\n",
    "print(f\"Amplitude of acf oscillations is {amp:.4f}\")\n",
    "\n",
    "fig_1, ax_1 = plt.subplots()\n",
    "ax_1.plot(freqs, power)\n",
    "ax_1.set_title(\"Fourier spectrum\")\n",
    "ax_1.set_xlabel(\"Frequency\")\n",
    "ax_1.set_ylabel(\"Power\")"
   ]
  }
 ],
 "metadata": {
  "jupytext": {
   "cell_metadata_filter": "title,-all",
   "executable": "/usr/bin/env python3",
   "main_language": "python",
   "notebook_metadata_filter": "-all"
  },
  "kernelspec": {
   "display_name": "aliby",
   "language": "python",
   "name": "aliby"
  },
  "language_info": {
   "codemirror_mode": {
    "name": "ipython",
    "version": 3
   },
   "file_extension": ".py",
   "mimetype": "text/x-python",
   "name": "python",
   "nbconvert_exporter": "python",
   "pygments_lexer": "ipython3",
   "version": "3.8.14"
  }
 },
 "nbformat": 4,
 "nbformat_minor": 5
}
