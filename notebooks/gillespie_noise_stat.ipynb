{
 "cells": [
  {
   "cell_type": "code",
   "execution_count": null,
   "id": "b012a470-bf76-4215-b543-5db3c015ef70",
   "metadata": {},
   "outputs": [],
   "source": [
    "import os\n",
    "import sys\n",
    "module_path = os.path.abspath(os.path.join('..'))\n",
    "if module_path not in sys.path:\n",
    "    sys.path.append(module_path)\n",
    "    \n",
    "%reload_ext autoreload\n",
    "%autoreload 2\n",
    "%matplotlib inline"
   ]
  },
  {
   "cell_type": "markdown",
   "id": "b551d2ef",
   "metadata": {},
   "source": [
    "# setting stuff up"
   ]
  },
  {
   "cell_type": "code",
   "execution_count": null,
   "id": "bcc83201",
   "metadata": {
    "title": "setting stuff up"
   },
   "outputs": [],
   "source": [
    "import matplotlib.pyplot as plt\n",
    "import numpy as np\n",
    "import pandas as pd\n",
    "import scipy as sp\n",
    "from postprocessor.core.processes.findpeaks import findpeaks\n",
    "\n",
    "from src.crosscorr import crosscorr\n",
    "from src.synthetic import fitzhugh_nagumo, gillespie_noise, sinusoid\n",
    "from src.utils import multiarray_random_shift, tile_signals\n",
    "\n",
    "def generate_filepath_gillespie_noise(\n",
    "    num_timeseries,\n",
    "    noise_timescale,\n",
    "    noise_amp,\n",
    "    dir=\"../data/interim/gillespienoise/\",\n",
    "):\n",
    "    \"\"\"filename generator\"\"\"\n",
    "    deathrate = 1 / noise_timescale\n",
    "    birthrate = noise_amp / noise_timescale\n",
    "    num_timeseries_str = f\"{num_timeseries:.0f}\"\n",
    "    deathrate_str = f\"{deathrate:.3f}\".replace(\".\", \"p\")\n",
    "    birthrate_str = f\"{birthrate:.3f}\".replace(\".\", \"p\")\n",
    "    gill_noise_filepath = (\n",
    "        dir +\n",
    "        \"gillespienoise_n\"\n",
    "        + num_timeseries_str\n",
    "        + \"_k\"\n",
    "        + birthrate_str\n",
    "        + \"_d\"\n",
    "        + deathrate_str\n",
    "        + \".csv\"\n",
    "    )\n",
    "    return gill_noise_filepath\n",
    "\n",
    "\n",
    "def load_gillespie_noise(gill_noise_filepath, num_timeseries):\n",
    "    # bodge. ideally, it should detect the number of time series from the filename\n",
    "    gill_noise_array = np.genfromtxt(gill_noise_filepath, delimiter=\",\")\n",
    "    gill_noise_array = gill_noise_array[:num_timeseries, :]\n",
    "    return gill_noise_array\n",
    "        \n",
    "\n",
    "def acfs_gillespie_noise(\n",
    "    signal_function,\n",
    "    num_timeseries=100,\n",
    "    timeaxis=np.linspace(0, 500, 500),\n",
    "    noise_timescale=20,\n",
    "    noise_amp=100,\n",
    "    gill_time_final=7500,\n",
    "    gill_num_intervals=5000,\n",
    "):\n",
    "    # TODO: docs\n",
    "\n",
    "    # Array for signal function\n",
    "    signal_array = signal_function(num_timeseries=num_timeseries, timeaxis=timeaxis)\n",
    "\n",
    "    # Array of Gillespie noise\n",
    "    # filename generator\n",
    "    gill_noise_filepath = generate_filepath_gillespie_noise(\n",
    "        num_timeseries=num_timeseries,\n",
    "        noise_timescale=noise_timescale,\n",
    "        noise_amp=noise_amp\n",
    "    )\n",
    "    # Load from file if it exists, or generate new\n",
    "    try:\n",
    "        gill_noise_array = load_gillespie_noise(gill_noise_filepath, num_timeseries=num_timeseries)\n",
    "    except:\n",
    "        print(f\"{gill_noise_filepath} does not exist, running simulations...\")\n",
    "        gill_noise_array = gillespie_noise(\n",
    "            num_timeseries=num_timeseries,\n",
    "            num_timepoints=len(timeaxis),\n",
    "            noise_timescale=noise_timescale,\n",
    "            noise_amp=noise_amp,\n",
    "            time_final=gill_time_final,\n",
    "            grid_num_intervals=gill_num_intervals,\n",
    "        )\n",
    "        np.savetxt(gill_noise_filename, gill_noise_array, delimiter=\",\")\n",
    "\n",
    "    # Add signal and noise\n",
    "    combined_array = signal_array + gill_noise_array\n",
    "    # Construct dataframes for correlation processes\n",
    "    combined_df1 = pd.DataFrame(combined_array)\n",
    "\n",
    "    # Autocorrelation\n",
    "    autocorr_result = crosscorr.as_function(\n",
    "        combined_df1, stationary=False, normalised=True, only_pos=True\n",
    "    )\n",
    "\n",
    "    return autocorr_result\n",
    "\n",
    "\n",
    "def sinusoid_outofphase_array(num_timeseries, timeaxis, amp, freq):\n",
    "    \"\"\"Array of sinusoids, random phases\"\"\"\n",
    "    sinusoid_outofphase_array = np.empty((num_timeseries, len(timeaxis)), dtype=float)\n",
    "    for row_index in range(num_timeseries):\n",
    "        phase = np.random.random() * 2 * np.pi\n",
    "        sinusoid_outofphase_array[row_index] = sinusoid(\n",
    "            timeaxis=timeaxis, amp=amp, freq=freq, phase=phase\n",
    "        )\n",
    "    return sinusoid_outofphase_array\n",
    "\n",
    "\n",
    "def fitzhugh_nagumo_outofphase_array(\n",
    "    num_timeseries, timeaxis, ext_stimulus=0.4, tau=12.5, a=0.7, b=0.82\n",
    "):\n",
    "    fitzhugh_nagumo_single, _ = fitzhugh_nagumo(\n",
    "        timeaxis=timeaxis, ext_stimulus=ext_stimulus, tau=tau, a=a, b=b\n",
    "    )\n",
    "    fitzhugh_nagumo_single -= np.mean(fitzhugh_nagumo_single)\n",
    "    fitzhugh_nagumo_array = tile_signals([fitzhugh_nagumo_single], [num_timeseries])\n",
    "    fitzhugh_nagumo_array = multiarray_random_shift([fitzhugh_nagumo_array])[0]\n",
    "    return fitzhugh_nagumo_array\n",
    "\n",
    "\n",
    "def model_func(t, K, C):\n",
    "    return (1 - C) * np.exp(-K * t) + C\n",
    "\n",
    "\n",
    "def fit_exp_nonlinear(t, y, p0):\n",
    "    opt_parms, parm_cov = sp.optimize.curve_fit(model_func, t, y, p0, maxfev=1000)\n",
    "    K, C = opt_parms\n",
    "    return K, C\n",
    "\n",
    "\n",
    "def fit_mean(\n",
    "    array,\n",
    "    initial_K,\n",
    "    initial_C=0,\n",
    "):\n",
    "    # get mean time series\n",
    "    mean_df = array.mean().to_frame().T\n",
    "    timeaxis = mean_df.columns.to_numpy()\n",
    "    mean_acf = mean_df.to_numpy()[0]\n",
    "\n",
    "    # initial guess is the decay function in acf plot\n",
    "    initial_guess = [initial_K, initial_C]\n",
    "\n",
    "    # fit mean\n",
    "    est_coeffs = fit_exp_nonlinear(\n",
    "        timeaxis,\n",
    "        mean_acf,\n",
    "        p0=initial_guess,\n",
    "    )\n",
    "\n",
    "    return est_coeffs\n",
    "\n",
    "\n",
    "def fit_peak_trough(\n",
    "    array,\n",
    "    initial_K,\n",
    "    initial_C=0,\n",
    "):\n",
    "    \"\"\"\n",
    "    array: 2d numpy array\n",
    "    \"\"\"\n",
    "    # find peaks & troughs\n",
    "    mean_df = array.mean().to_frame().T\n",
    "    peaks_df = findpeaks.as_function(mean_df)\n",
    "    troughs_df = findpeaks.as_function(-mean_df)\n",
    "    # datatype conversions\n",
    "    timeaxis = mean_df.columns.to_numpy()\n",
    "    mean_acf = mean_df.to_numpy()[0]\n",
    "    peaks_mask = peaks_df.to_numpy()[0] != 0\n",
    "    troughs_mask = troughs_df.to_numpy()[0] != 0\n",
    "    # add (0,1) to datapoints\n",
    "    peaks_mask[0] = True\n",
    "    troughs_mask[0] = True\n",
    "\n",
    "    # initial guess is the decay function in acf plot\n",
    "    initial_guess = [initial_K, initial_C]\n",
    "\n",
    "    # fit peaks\n",
    "    upper_coeffs = fit_exp_nonlinear(\n",
    "        timeaxis[peaks_mask],\n",
    "        mean_acf[peaks_mask],\n",
    "        p0=initial_guess,\n",
    "    )\n",
    "    # fit troughs\n",
    "    lower_coeffs = fit_exp_nonlinear(\n",
    "        timeaxis[troughs_mask],\n",
    "        mean_acf[troughs_mask],\n",
    "        p0=initial_guess,\n",
    "    )\n",
    "\n",
    "    return upper_coeffs, lower_coeffs"
   ]
  },
  {
   "cell_type": "markdown",
   "id": "3e58e994",
   "metadata": {},
   "source": [
    "# get stats"
   ]
  },
  {
   "cell_type": "code",
   "execution_count": null,
   "id": "fd0c28d5",
   "metadata": {},
   "outputs": [],
   "source": [
    "gill_time_final = 7500\n",
    "gill_num_intervals = 5000"
   ]
  },
  {
   "cell_type": "code",
   "execution_count": null,
   "id": "ebfefb32",
   "metadata": {
    "lines_to_next_cell": 0
   },
   "outputs": [],
   "source": [
    "noise_timescale = 20\n",
    "\n",
    "# sinusoid\n",
    "autocorr_result = acfs_gillespie_noise(\n",
    "    signal_function=lambda num_timeseries, timeaxis: sinusoid_outofphase_array(\n",
    "        num_timeseries=2, timeaxis=timeaxis, amp=1, freq=0.03\n",
    "    ),\n",
    "    noise_timescale=noise_timescale,\n",
    "    num_timeseries=2\n",
    ")\n",
    "\n",
    "# FHM\n",
    "#autocorr_result = acfs_gillespie_noise(signal_function=fitzhugh_nagumo_outofphase_array)\n",
    "\n",
    "auc = std_auc(autocorr_result)\n",
    "\n",
    "initial_K = (gill_time_final / (gill_num_intervals - 1)) * (1 / noise_timescale)\n",
    "upper_coeffs, lower_coeffs = fit_peak_trough(autocorr_result, initial_K=initial_K)\n",
    "est_coeffs = fit_mean(autocorr_result, initial_K=initial_K)\n",
    "\n",
    "print(auc)\n",
    "print(upper_coeffs)\n",
    "print(lower_coeffs)\n",
    "print(est_coeffs)"
   ]
  },
  {
   "cell_type": "markdown",
   "id": "8e143e33",
   "metadata": {},
   "source": [
    "# vary stuff"
   ]
  },
  {
   "cell_type": "markdown",
   "id": "d1d525b3-e200-4898-a58b-b512cc72a1dc",
   "metadata": {},
   "source": [
    "define list of params to go through"
   ]
  },
  {
   "cell_type": "code",
   "execution_count": null,
   "id": "a821cd33-da71-4e2e-b011-d62767b70c42",
   "metadata": {},
   "outputs": [],
   "source": [
    "gill_time_final = 7500\n",
    "gill_num_intervals = 5000"
   ]
  },
  {
   "cell_type": "code",
   "execution_count": null,
   "id": "f01bb383-a658-4200-8aa8-774053586352",
   "metadata": {},
   "outputs": [],
   "source": [
    "from collections import namedtuple\n",
    "NoiseParams = namedtuple(\"NoiseParams\", \"noise_timescale noise_amp\")"
   ]
  },
  {
   "cell_type": "code",
   "execution_count": null,
   "id": "06413be7-bb67-434e-89a5-6cf541e5f8d0",
   "metadata": {},
   "outputs": [],
   "source": [
    "noise_timescale_list = [20] * 11\n",
    "noise_amp_list = [20, 50, 100, 150, 200, 250, 300, 350, 400, 450, 500]\n",
    "num_timeseries = 200"
   ]
  },
  {
   "cell_type": "code",
   "execution_count": null,
   "id": "7511b72f-73d0-4622-ae59-30402c7bb969",
   "metadata": {},
   "outputs": [],
   "source": [
    "noise_params_list = [NoiseParams(*el) for el in zip(noise_timescale_list, noise_amp_list)]"
   ]
  },
  {
   "cell_type": "code",
   "execution_count": null,
   "id": "7fd2edf5-2b34-4af2-af72-b44468902afc",
   "metadata": {},
   "outputs": [],
   "source": [
    "signal_function = fitzhugh_nagumo_outofphase_array\n",
    "# signal_function = sinusoid_outofphase_array"
   ]
  },
  {
   "cell_type": "markdown",
   "id": "44893df0-0dc6-426f-9b77-22f541f47a60",
   "metadata": {},
   "source": [
    "generate/load acfs"
   ]
  },
  {
   "cell_type": "code",
   "execution_count": null,
   "id": "275a2b92-714a-4a20-9e58-003a5f7dcb75",
   "metadata": {},
   "outputs": [],
   "source": [
    "acfs_dict = {}\n",
    "for noise_params in noise_params_list:\n",
    "    autocorr_result = acfs_gillespie_noise(\n",
    "        signal_function=signal_function,\n",
    "        num_timeseries=num_timeseries,\n",
    "        noise_timescale=noise_params.noise_timescale,\n",
    "        noise_amp=noise_params.noise_amp,\n",
    "        gill_time_final=gill_time_final,\n",
    "        gill_num_intervals=gill_num_intervals,\n",
    "    )\n",
    "    acfs_dict[noise_params] = autocorr_result"
   ]
  },
  {
   "cell_type": "markdown",
   "id": "7168f378-5c0f-4cc0-b128-7bb484b53e0f",
   "metadata": {},
   "source": [
    "fit exponentials"
   ]
  },
  {
   "cell_type": "code",
   "execution_count": null,
   "id": "20d66e7a-1553-41f9-a3c8-902bcdfbf6b5",
   "metadata": {},
   "outputs": [],
   "source": [
    "upper_coeffs_list = []\n",
    "lower_coeffs_list = []\n",
    "est_coeffs_list = []\n",
    "\n",
    "for noise_params in noise_params_list:\n",
    "    noise_timescale = noise_params.noise_timescale\n",
    "    autcorr_result = acfs_dict[noise_params]\n",
    "    \n",
    "    initial_K = (gill_time_final / (gill_num_intervals - 1)) * (1 / noise_timescale)\n",
    "    upper_coeffs, lower_coeffs = fit_peak_trough(autocorr_result, initial_K=initial_K)\n",
    "    est_coeffs = fit_mean(autocorr_result, initial_K=initial_K)\n",
    "    upper_coeffs_list.append(upper_coeffs)\n",
    "    lower_coeffs_list.append(lower_coeffs)\n",
    "    est_coeffs_list.append(est_coeffs)\n",
    "\n",
    "lower_coeffs_array = np.array(lower_coeffs_list)\n",
    "upper_coeffs_array = np.array(upper_coeffs_list)\n",
    "est_coeffs_array = np.array(est_coeffs_list)"
   ]
  },
  {
   "cell_type": "markdown",
   "id": "c05016f0",
   "metadata": {},
   "source": [
    "# plots"
   ]
  },
  {
   "cell_type": "code",
   "execution_count": null,
   "id": "2286a583",
   "metadata": {},
   "outputs": [],
   "source": [
    "fig_K, ax_K = plt.subplots()\n",
    "deathrate_list = 1 / np.array(noise_timescale_list)\n",
    "ax_K.scatter(deathrate_list, lower_coeffs_array[:, 0], label=\"Fit to troughs\")\n",
    "ax_K.scatter(deathrate_list, est_coeffs_array[:, 0], label=\"Fit to mean\")\n",
    "ax_K.scatter(deathrate_list, upper_coeffs_array[:, 0], label=\"Fit to peaks\")\n",
    "ax_K.set_xlabel(\"Death rate ($d_0$)\")\n",
    "ax_K.set_ylabel(\n",
    "    \"estimated decay rate ($D$)\"\n",
    ")\n",
    "ax_K.legend()"
   ]
  },
  {
   "cell_type": "code",
   "execution_count": null,
   "id": "c5a0e1c7",
   "metadata": {},
   "outputs": [],
   "source": [
    "fig_C, ax_C = plt.subplots()\n",
    "ax_C.scatter(noise_amp_list, lower_coeffs_array[:, 1], label=\"Fit to troughs\")\n",
    "ax_C.scatter(noise_amp_list, est_coeffs_array[:, 1], label=\"Fit to mean\")\n",
    "ax_C.scatter(noise_amp_list, upper_coeffs_array[:, 1], label=\"Fit to peaks\")\n",
    "ax_C.set_xlabel(\"Noise amplitude ($k_0/d_0$)\")\n",
    "ax_C.set_ylabel(\n",
    "    \"estimated y-displacement ($C$)\"\n",
    ")\n",
    "ax_C.legend()"
   ]
  },
  {
   "cell_type": "markdown",
   "id": "7faaaf76-6339-4feb-9d0e-aa32c5617887",
   "metadata": {},
   "source": [
    "# save stats"
   ]
  },
  {
   "cell_type": "code",
   "execution_count": null,
   "id": "b75cf8de-51f3-4f64-8d6c-c7c50e8fd006",
   "metadata": {},
   "outputs": [],
   "source": [
    "birthrate_vs_ydispl_df = pd.DataFrame({\n",
    "    'noise_amp': noise_amp_list,\n",
    "    'C_lower': lower_coeffs_array[:,1],\n",
    "    'C_central': est_coeffs_array[:,1],\n",
    "    'C_upper': upper_coeffs_array[:,1],\n",
    "})"
   ]
  },
  {
   "cell_type": "code",
   "execution_count": null,
   "id": "5fe31947-c0d8-4af3-a43f-defed7455c6b",
   "metadata": {},
   "outputs": [],
   "source": [
    "birthrate_vs_ydispl_df"
   ]
  },
  {
   "cell_type": "code",
   "execution_count": null,
   "id": "6d0e78af-68d9-4488-adc6-dd09578d9160",
   "metadata": {},
   "outputs": [],
   "source": [
    "birthrate_vs_ydispl_df.to_csv(\"../data/interim/birthrate_vs_ydispl.csv\", index=False)"
   ]
  },
  {
   "cell_type": "code",
   "execution_count": null,
   "id": "f497e593-54b1-474a-9512-d5a2cf90047f",
   "metadata": {},
   "outputs": [],
   "source": [
    "deathrate_vs_decay_df = pd.DataFrame({\n",
    "    'deathrate': deathrate_list,\n",
    "    'D_lower': lower_coeffs_array[:,0],\n",
    "    'D_central': est_coeffs_array[:,0],\n",
    "    'D_upper': upper_coeffs_array[:,0],\n",
    "})"
   ]
  },
  {
   "cell_type": "code",
   "execution_count": null,
   "id": "be70c0e2-95ba-46fb-8eb1-4659fe931d9e",
   "metadata": {},
   "outputs": [],
   "source": [
    "deathrate_vs_decay_df"
   ]
  },
  {
   "cell_type": "code",
   "execution_count": null,
   "id": "5daa2a5c-50bc-4ef1-9eef-bf65138671a0",
   "metadata": {},
   "outputs": [],
   "source": [
    "deathrate_vs_decay_df.to_csv(\"../data/interim/deathrate_vs_decay.csv\", index=False)"
   ]
  }
 ],
 "metadata": {
  "jupytext": {
   "cell_metadata_filter": "title,-all",
   "executable": "/usr/bin/env python3",
   "formats": "ipynb,auto:percent",
   "main_language": "python",
   "notebook_metadata_filter": "-all"
  },
  "kernelspec": {
   "display_name": "synthosc",
   "language": "python",
   "name": "synthosc"
  },
  "language_info": {
   "codemirror_mode": {
    "name": "ipython",
    "version": 3
   },
   "file_extension": ".py",
   "mimetype": "text/x-python",
   "name": "python",
   "nbconvert_exporter": "python",
   "pygments_lexer": "ipython3",
   "version": "3.8.14"
  }
 },
 "nbformat": 4,
 "nbformat_minor": 5
}
