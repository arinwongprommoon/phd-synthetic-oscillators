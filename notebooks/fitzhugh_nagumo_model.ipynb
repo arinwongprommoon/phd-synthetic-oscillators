{
 "cells": [
  {
   "cell_type": "code",
   "execution_count": null,
   "id": "f7e8e7ca-1eec-4784-94dc-7a70e4bdd4c9",
   "metadata": {},
   "outputs": [],
   "source": [
    "import os\n",
    "import sys\n",
    "module_path = os.path.abspath(os.path.join('..'))\n",
    "if module_path not in sys.path:\n",
    "    sys.path.append(module_path)\n",
    "    \n",
    "%reload_ext autoreload\n",
    "%autoreload 2\n",
    "%matplotlib inline"
   ]
  },
  {
   "cell_type": "markdown",
   "id": "c715be6f",
   "metadata": {},
   "source": [
    "Imports"
   ]
  },
  {
   "cell_type": "code",
   "execution_count": null,
   "id": "d85721ae",
   "metadata": {},
   "outputs": [],
   "source": [
    "import numpy as np\n",
    "import pandas as pd\n",
    "import matplotlib.pyplot as plt\n",
    "from scipy import integrate, interpolate\n",
    "from src.synthetic import ODEModelBaseClass, gillespie_noise_raw"
   ]
  },
  {
   "cell_type": "markdown",
   "id": "4f93122c",
   "metadata": {},
   "source": [
    "Define classes & functions.  Architecture based on `synthetic.py`, equations based on Rocsoreanu et al. (2000)"
   ]
  },
  {
   "cell_type": "code",
   "execution_count": null,
   "id": "ae59be7a",
   "metadata": {},
   "outputs": [],
   "source": [
    "class FitzHughNagumoModel(ODEModelBaseClass):\n",
    "    # Defined according to Rocsoreanu et al. (2000), eqn 1.1.17\n",
    "    # VARIABLES\n",
    "    # x :: membrane voltage\n",
    "    # y :: linear recovery variable\n",
    "    # PARAMETERS\n",
    "    # a ::\n",
    "    # b ::\n",
    "    # c ::\n",
    "    def odes(self, var_array, timeaxis, *args):\n",
    "        # Define variables\n",
    "        x = var_array[0]\n",
    "        y = var_array[1]\n",
    "        # Define parameters\n",
    "        a = args[0]\n",
    "        b = args[1]\n",
    "        c = args[2]\n",
    "        # Define differential equations\n",
    "        dx_dt = c*(x + y - (x**3)/3)\n",
    "        dy_dt = (-1/c)*(x - a + b*y)\n",
    "        return [dx_dt, dy_dt]\n",
    "    \n",
    "class FitzHughNagumoModelStochastic(FitzHughNagumoModel):\n",
    "    def __init__(self, timeaxis, init_cond, ode_parameters):\n",
    "        super().__init__(timeaxis, init_cond, ode_parameters)\n",
    "\n",
    "        self.ode_parameters_original = self.ode_parameters\n",
    "\n",
    "        # a\n",
    "        self.a_array = self.ode_parameters_original[\"a\"]\n",
    "        self.a_interp1d = interpolate.interp1d(self.timeaxis, self.a_array)\n",
    "        self.ode_parameters[\"a\"] = self.a\n",
    "\n",
    "        # b\n",
    "        self.b_array = self.ode_parameters_original[\"b\"]\n",
    "        self.b_interp1d = interpolate.interp1d(self.timeaxis, self.b_array)\n",
    "        self.ode_parameters[\"b\"] = self.b\n",
    "        \n",
    "        # c\n",
    "        self.c_array = self.ode_parameters_original[\"c\"]\n",
    "        self.c_interp1d = interpolate.interp1d(self.timeaxis, self.c_array)\n",
    "        self.ode_parameters[\"c\"] = self.c\n",
    "\n",
    "    # Assumes timeaxis and ext_stimulus_array have the same number of elements\n",
    "    def a(self, t):\n",
    "        if t > np.max(self.timeaxis):\n",
    "            t = np.max(self.timeaxis)\n",
    "        return self.a_interp1d(np.asarray(t))\n",
    "\n",
    "    def b(self, t):\n",
    "        if t > np.max(self.timeaxis):\n",
    "            t = np.max(self.timeaxis)\n",
    "        return self.b_interp1d(np.asarray(t))\n",
    "    \n",
    "    def c(self, t):\n",
    "        if t > np.max(self.timeaxis):\n",
    "            t = np.max(self.timeaxis)\n",
    "        return self.c_interp1d(np.asarray(t))\n",
    "\n",
    "    def odes(self, var_array, t, *args):\n",
    "        # Define variables\n",
    "        x = var_array[0]\n",
    "        y = var_array[1]\n",
    "        # Define parameters\n",
    "        a = args[0]\n",
    "        b = args[1]\n",
    "        c = args[2]\n",
    "        # Define differential equations\n",
    "        dx_dt = c(t)*(x + y - (x**3)/3)\n",
    "        dy_dt = (-1/c(t))*(x - a(t) + b(t)*y)\n",
    "        return [dx_dt, dy_dt]\n",
    "\n",
    "    \n",
    "def fitzhugh_nagumo(\n",
    "    timeaxis=np.linspace(0, 1000, 1000),\n",
    "    voltage_init=0,\n",
    "    recovery_init=0,\n",
    "    a=1,\n",
    "    b=1,\n",
    "    c=1,\n",
    "):\n",
    "    model = FitzHughNagumoModel(\n",
    "        timeaxis=timeaxis,\n",
    "        init_cond={\"x\": voltage_init, \"y\": recovery_init},\n",
    "        ode_parameters={\"a\": a, \"b\": b, \"c\": c},\n",
    "    )\n",
    "    var_out = model.solver()\n",
    "    voltage = var_out.T[0]\n",
    "    recovery = var_out.T[1]\n",
    "    return voltage, recovery\n",
    "\n",
    "def fitzhugh_nagumo_stochastic(\n",
    "    timeaxis=np.linspace(0, 1000, 1000),\n",
    "    voltage_init=0,\n",
    "    recovery_init=0,\n",
    "    a_array=0.05 * np.random.rand(1000) + 1,\n",
    "    b_array=0.05 * np.random.rand(1000) + 1,\n",
    "    c_array=0.05 * np.random.rand(1000) + 1,\n",
    "):\n",
    "    model = FitzHughNagumoModelStochastic(\n",
    "        timeaxis=timeaxis,\n",
    "        init_cond={\"x\": voltage_init, \"y\": recovery_init},\n",
    "        ode_parameters={\n",
    "            \"a\": a_array,\n",
    "            \"b\": b_array,\n",
    "            \"c\": c_array,\n",
    "        },\n",
    "    )\n",
    "    var_out = model.solver()\n",
    "    voltage = var_out.T[0]\n",
    "    recovery = var_out.T[1]\n",
    "    return voltage, recovery"
   ]
  },
  {
   "cell_type": "markdown",
   "id": "333c497c",
   "metadata": {},
   "source": [
    "Deterministic"
   ]
  },
  {
   "cell_type": "code",
   "execution_count": null,
   "id": "26a5d5fb",
   "metadata": {},
   "outputs": [],
   "source": [
    "v, r = fitzhugh_nagumo(\n",
    "    timeaxis=np.linspace(0, 200, 200),\n",
    "    a=1e-10, b=1.471143170154, c=5)"
   ]
  },
  {
   "cell_type": "code",
   "execution_count": null,
   "id": "33fd40c4",
   "metadata": {},
   "outputs": [],
   "source": [
    "plt.subplots(figsize=(20,5))\n",
    "plt.plot(v)"
   ]
  },
  {
   "cell_type": "markdown",
   "id": "aa221c58",
   "metadata": {},
   "source": [
    "Stochastic - white noise"
   ]
  },
  {
   "cell_type": "code",
   "execution_count": null,
   "id": "8cd2a698",
   "metadata": {},
   "outputs": [],
   "source": [
    "a_array=0.002 * np.random.rand(200) + 0.994\n",
    "b_array=0.00 * np.random.rand(200) + 0\n",
    "c_array=0.00 * np.random.rand(200) + 5\n",
    "\n",
    "vs, rs = fitzhugh_nagumo_stochastic(\n",
    "    timeaxis=np.linspace(0, 200, 200),\n",
    "    a_array=a_array, b_array=b_array, c_array=c_array\n",
    ")"
   ]
  },
  {
   "cell_type": "code",
   "execution_count": null,
   "id": "0c805e95",
   "metadata": {},
   "outputs": [],
   "source": [
    "plt.subplots(figsize=(20,5))\n",
    "plt.plot(vs)\n",
    "\n",
    "plt.subplots(figsize=(20,5))\n",
    "plt.plot(a_array)"
   ]
  },
  {
   "cell_type": "code",
   "execution_count": null,
   "id": "4bd94d44",
   "metadata": {},
   "outputs": [],
   "source": [
    "# b\n",
    "\n",
    "a_array=0.00 * np.random.rand(200) + 1e-10\n",
    "b_array=0.015 * np.random.rand(200) + 1.46\n",
    "c_array=0.00 * np.random.rand(200) + 5\n",
    "\n",
    "vs, rs = fitzhugh_nagumo_stochastic(\n",
    "    timeaxis=np.linspace(0, 200, 200),\n",
    "    a_array=a_array, b_array=b_array, c_array=c_array\n",
    ")"
   ]
  },
  {
   "cell_type": "code",
   "execution_count": null,
   "id": "7efee7eb",
   "metadata": {},
   "outputs": [],
   "source": [
    "plt.subplots(figsize=(20,5))\n",
    "plt.plot(vs)\n",
    "\n",
    "plt.subplots(figsize=(20,5))\n",
    "plt.plot(b_array)"
   ]
  },
  {
   "cell_type": "markdown",
   "id": "d506f67b",
   "metadata": {},
   "source": [
    "> Conclusion: As expected, if the stochastic parameter is near a sensitive point and varies a bit, the system alternates between several types of oscillator.  It doesn't lead to as much of a noise in the time series as I expected, but I've come to expect that by now.  The problem now is surveying the parameter space to find other parts that give rise to behaviour like this."
   ]
  },
  {
   "cell_type": "markdown",
   "id": "cff5a5ca",
   "metadata": {},
   "source": [
    "Stochastic - Gillespie noise"
   ]
  },
  {
   "cell_type": "code",
   "execution_count": null,
   "id": "e8e5e059",
   "metadata": {},
   "outputs": [],
   "source": [
    "timeaxis=np.linspace(0, 200, 200)"
   ]
  },
  {
   "cell_type": "code",
   "execution_count": null,
   "id": "146c6594",
   "metadata": {},
   "outputs": [],
   "source": [
    "# Generate Gillespie noise (raw)\n",
    "noise_timescale = 2\n",
    "noise_amp = 50\n",
    "\n",
    "gill_time_final = 300\n",
    "gill_num_intervals = 200\n",
    "gill_noise_time, gill_noise_list = gillespie_noise_raw(\n",
    "    num_timeseries=1,\n",
    "    noise_timescale=noise_timescale,\n",
    "    noise_amp=noise_amp,\n",
    "    time_final=gill_time_final,\n",
    ")\n",
    "\n",
    "print(\"Gillespie noise generated.\")\n",
    "\n",
    "# Scale Gillespie time axis to fit time axis\n",
    "for gill_time_element in gill_noise_time:\n",
    "    gill_time_element -= gill_time_element[0]\n",
    "    gill_time_element *= timeaxis[-1] / gill_time_element[-1]\n",
    "\n",
    "# Define arrays\n",
    "a = 0.996\n",
    "std = 0.002\n",
    "\n",
    "a_array = (gill_noise_list[0] * std) + a\n",
    "b_array=0.00 * gill_noise_time[0] + 0\n",
    "c_array=0.00 * gill_noise_time[0] + 5\n",
    "\n",
    "# Simulate\n",
    "print(\"FHN simulation starts.\")\n",
    "vs, rs = fitzhugh_nagumo_stochastic(\n",
    "    timeaxis=gill_noise_time[0],\n",
    "    a_array=a_array, b_array=b_array, c_array=c_array\n",
    ")\n",
    "print(\"FHN simulation done.\")"
   ]
  },
  {
   "cell_type": "code",
   "execution_count": null,
   "id": "08a287e4",
   "metadata": {},
   "outputs": [],
   "source": [
    "plt.subplots(figsize=(20,5))\n",
    "plt.plot(gill_noise_time[0], vs)\n",
    "\n",
    "plt.subplots(figsize=(20,5))\n",
    "plt.plot(gill_noise_time[0], a_array)"
   ]
  },
  {
   "cell_type": "markdown",
   "id": "60570528",
   "metadata": {},
   "source": [
    "> Seems to transition between more types of behaviour, but this depends on the dynamic range of $a$, which in turn is derived from the parameters.  I don't think I'm near a regime where noise in the parameters translates to noise in the time series, even if I have 7,000+ time points because I'm taking raw Gillespie noise values."
   ]
  },
  {
   "cell_type": "markdown",
   "id": "0f585336",
   "metadata": {},
   "source": [
    "Bifurcation diagram"
   ]
  },
  {
   "cell_type": "markdown",
   "id": "99b42bb5",
   "metadata": {},
   "source": [
    "Detect whether a time series is noisy (jittery): use signal-to-noise ratio from FFT"
   ]
  },
  {
   "cell_type": "code",
   "execution_count": null,
   "id": "a4f00b7e",
   "metadata": {},
   "outputs": [],
   "source": [
    "# Define functions\n",
    "\n",
    "from postprocessor.core.processes.fft import fft, fftParameters\n",
    "\n",
    "def find_nearest(array, value):\n",
    "    \"\"\"find index of nearest value in numpy array\"\"\"\n",
    "    array = np.asarray(array)\n",
    "    idx = (np.abs(array - value)).argmin()\n",
    "    return array[idx]\n",
    "\n",
    "def get_snr(fft_freqs_df, fft_power_df, cutoff_freq):\n",
    "    \"\"\"Get signal-to-noise ratio from a Fourier spectrum\n",
    "\n",
    "    Get signal-to-noise ratio from a Fourier spectrum. Defines a cut-off\n",
    "    frequency; frequencies lower than this is considered signal, while\n",
    "    frequencies higher than this is considered noise. The signal-to-noise\n",
    "    ratio is defined as the area under the Fourier spectrum to the left of\n",
    "    the cut-off divided by the area under the Fourier spectrum to the right\n",
    "    of the cut-off. Follows:\n",
    "\n",
    "    Parameters\n",
    "    ----------\n",
    "    fft_freqs_df : pandas.DataFrame\n",
    "        DataFrame showing in each row the frequency dimension of each\n",
    "        Fourier spectrum\n",
    "    fft_power_df : pandas.DataFrame\n",
    "        DataFrame showing in each row the periodogram (Fourier spectrum)\n",
    "    cutoff_freq : float\n",
    "        cut-off frequency to divide signal and noise\n",
    "    \"\"\"\n",
    "    fft_freqs_array = fft_freqs_df.to_numpy()\n",
    "    fft_power_array = fft_power_df.to_numpy()\n",
    "    snr = []\n",
    "    for rowindex, _ in enumerate(fft_power_array):\n",
    "        cutoff_freq_nearest = find_nearest(\n",
    "            fft_freqs_array[rowindex, :], cutoff_freq\n",
    "        )\n",
    "        # nans can occur if the origin time series has nans -- skip over these\n",
    "        if np.isnan(cutoff_freq_nearest):\n",
    "            snr.append(np.nan)\n",
    "        else:\n",
    "            cutoff_colindex = np.where(\n",
    "                fft_freqs_array[rowindex, :] == cutoff_freq_nearest\n",
    "            )[0].item()\n",
    "            area_all = np.trapz(\n",
    "                y=fft_power_array[rowindex, :], x=fft_freqs_array[rowindex, :]\n",
    "            )\n",
    "            area_signal = np.trapz(\n",
    "                y=fft_power_array[rowindex, 0:cutoff_colindex],\n",
    "                x=fft_freqs_array[rowindex, 0:cutoff_colindex],\n",
    "            )\n",
    "            area_noise = area_all - area_signal\n",
    "            snr.append(area_signal / area_noise)\n",
    "    return np.array(snr)"
   ]
  },
  {
   "cell_type": "code",
   "execution_count": null,
   "id": "59ff2f63",
   "metadata": {},
   "outputs": [],
   "source": [
    "# Running simulations repeatedly -- inefficient, but works (hopefully)\n",
    "\n",
    "# Convenience\n",
    "def fitzhugh_nagumo_a(base_a):\n",
    "    # Using white noise to speed things up\n",
    "    a_array=0.002 * np.random.rand(200) + base_a\n",
    "    b_array=0.00 * np.random.rand(200) + 0\n",
    "    c_array=0.00 * np.random.rand(200) + 5\n",
    "\n",
    "    vs, rs = fitzhugh_nagumo_stochastic(\n",
    "        timeaxis=np.linspace(0, 200, 200),\n",
    "        a_array=a_array, b_array=b_array, c_array=c_array\n",
    "    )\n",
    "    return vs\n",
    "\n",
    "base_a_list = np.linspace(0.99, 1.00, 50)\n",
    "\n",
    "snr_values = []\n",
    "for base_a in base_a_list:\n",
    "    vs = fitzhugh_nagumo_a(base_a)\n",
    "    f, p = fft.as_function(pd.DataFrame(vs).T)\n",
    "    snr = get_snr(f, p, 0.04)\n",
    "    snr_values.append(snr)\n",
    "    \n",
    "snr_values = np.array(snr_values)"
   ]
  },
  {
   "cell_type": "code",
   "execution_count": null,
   "id": "b9339d5a",
   "metadata": {},
   "outputs": [],
   "source": [
    "# Or, use Gillespie noise\n",
    "# THIS ACTUALLY DOESN'T MAKE SENSE BECAUSE THE TIME AXIS IS UNEVEN\n",
    "# AND YOU CAN'T DO A FOURIER TRANSFORM OF A TIME SERIES WITH AN UNEVEN TIME AXIS\n",
    "\n",
    "# Generate Gillespie noise -- once, to save time\n",
    "noise_timescale = 2\n",
    "noise_amp = 50\n",
    "\n",
    "gill_time_final = 300\n",
    "gill_num_intervals = 200\n",
    "gill_noise_time, gill_noise_list = gillespie_noise_raw(\n",
    "    num_timeseries=1,\n",
    "    noise_timescale=noise_timescale,\n",
    "    noise_amp=noise_amp,\n",
    "    time_final=gill_time_final,\n",
    ")\n",
    "\n",
    "print(\"Gillespie noise generated.\")\n",
    "\n",
    "# Scale Gillespie time axis to fit time axis\n",
    "for gill_time_element in gill_noise_time:\n",
    "    gill_time_element -= gill_time_element[0]\n",
    "    gill_time_element *= timeaxis[-1] / gill_time_element[-1]\n",
    "\n",
    "# Convenience\n",
    "def fitzhugh_nagumo_a(base_a):\n",
    "    a_array=(gill_noise_list[0] * 0.002) + a\n",
    "    b_array=0.00 * gill_noise_time[0] + 0\n",
    "    c_array=0.00 * gill_noise_time[0] + 5\n",
    "\n",
    "    vs, rs = fitzhugh_nagumo_stochastic(\n",
    "        timeaxis=gill_noise_time[0],\n",
    "        a_array=a_array, b_array=b_array, c_array=c_array\n",
    "    )\n",
    "    return vs\n",
    "\n",
    "base_a_list = np.linspace(0.99, 1.00, 10)\n",
    "\n",
    "snr_values = []\n",
    "for base_a in base_a_list:\n",
    "    print(base_a)\n",
    "    vs = fitzhugh_nagumo_a(base_a)\n",
    "    f, p = fft.as_function(pd.DataFrame(vs).T)\n",
    "    snr = get_snr(f, p, 0.04)\n",
    "    snr_values.append(snr)\n",
    "    \n",
    "snr_values = np.array(snr_values)"
   ]
  },
  {
   "cell_type": "code",
   "execution_count": null,
   "id": "c345c9a7",
   "metadata": {},
   "outputs": [],
   "source": [
    "plt.plot(base_a_list, snr_values)"
   ]
  },
  {
   "cell_type": "code",
   "execution_count": null,
   "id": "f8772fb8",
   "metadata": {},
   "outputs": [],
   "source": [
    "plt.plot(f.T, p.T)"
   ]
  },
  {
   "cell_type": "code",
   "execution_count": null,
   "id": "e3c04750",
   "metadata": {},
   "outputs": [],
   "source": [
    "vs = fitzhugh_nagumo_a(0.996)\n",
    "\n",
    "plt.subplots()\n",
    "plt.plot(vs)\n",
    "\n",
    "f, p = fft.as_function(pd.DataFrame(vs).T)\n",
    "plt.subplots()\n",
    "plt.plot(f.T, p.T)"
   ]
  },
  {
   "cell_type": "code",
   "execution_count": null,
   "id": "7183bdd8",
   "metadata": {},
   "outputs": [],
   "source": [
    "# 2d\n",
    "# Running simulations repeatedly -- inefficient, but works (hopefully)\n",
    "\n",
    "# Convenience\n",
    "def fitzhugh_nagumo_ab(base_a, base_b):\n",
    "    # Using white noise to speed things up\n",
    "    a_array=0.002 * np.random.rand(200) + base_a\n",
    "    b_array=0.002 * np.random.rand(200) + base_b\n",
    "    c_array=0.00 * np.random.rand(200) + 5\n",
    "\n",
    "    vs, rs = fitzhugh_nagumo_stochastic(\n",
    "        timeaxis=np.linspace(0, 200, 200),\n",
    "        a_array=a_array, b_array=b_array, c_array=c_array\n",
    "    )\n",
    "    return vs\n",
    "\n",
    "base_a_list = np.linspace(0, 1, 40)\n",
    "base_b_list = np.linspace(0, 2, 40)\n",
    "\n",
    "snr_values = np.zeros((len(base_a_list), len(base_b_list)))\n",
    "fft_peak_height = np.zeros((len(base_a_list), len(base_b_list)))\n",
    "for i, base_a in enumerate(base_a_list):\n",
    "    for j, base_b in enumerate(base_b_list):\n",
    "        vs = fitzhugh_nagumo_ab(base_a, base_b)\n",
    "        f, p = fft.as_function(pd.DataFrame(vs).T)\n",
    "        snr = get_snr(f, p, 0.04)\n",
    "        snr_values[i][j] = snr\n",
    "        fft_peak_height[i][j] = np.max(p.to_numpy())"
   ]
  },
  {
   "cell_type": "code",
   "execution_count": null,
   "id": "c9332855",
   "metadata": {},
   "outputs": [],
   "source": [
    "point = (0., 0.3)\n",
    "\n",
    "plt.subplots()\n",
    "plt.contourf(base_a_list, base_b_list, snr_values.T)\n",
    "plt.colorbar()\n",
    "plt.plot(point[0], point[1], 'ro')\n",
    "plt.title('SNR (measure noise)')\n",
    "\n",
    "plt.subplots()\n",
    "plt.contourf(base_a_list, base_b_list, fft_peak_height.T)\n",
    "plt.colorbar()\n",
    "plt.plot(point[0], point[1], 'ro')\n",
    "plt.title('FFT peak height (evaluate whether oscillatory)')"
   ]
  },
  {
   "cell_type": "code",
   "execution_count": null,
   "id": "f9e1e3bf",
   "metadata": {},
   "outputs": [],
   "source": [
    "vs = fitzhugh_nagumo_ab(point[0], point[1])\n",
    "\n",
    "plt.subplots()\n",
    "plt.plot(vs)\n",
    "\n",
    "plt.subplots()\n",
    "plt.plot(vs[75:200])\n",
    "\n",
    "f, p = fft.as_function(pd.DataFrame(vs).T)\n",
    "plt.subplots()\n",
    "plt.plot(f.T, p.T)"
   ]
  },
  {
   "cell_type": "code",
   "execution_count": null,
   "id": "0bfafd9b",
   "metadata": {},
   "outputs": [],
   "source": [
    "np.max(p.to_numpy())"
   ]
  }
 ],
 "metadata": {
  "kernelspec": {
   "display_name": "aliby",
   "language": "python",
   "name": "aliby"
  },
  "language_info": {
   "codemirror_mode": {
    "name": "ipython",
    "version": 3
   },
   "file_extension": ".py",
   "mimetype": "text/x-python",
   "name": "python",
   "nbconvert_exporter": "python",
   "pygments_lexer": "ipython3",
   "version": "3.8.14"
  }
 },
 "nbformat": 4,
 "nbformat_minor": 5
}
