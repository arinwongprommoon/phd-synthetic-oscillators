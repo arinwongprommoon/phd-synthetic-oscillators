{
 "cells": [
  {
   "cell_type": "code",
   "execution_count": null,
   "id": "1332ea44",
   "metadata": {
    "title": "Import requirements"
   },
   "outputs": [],
   "source": [
    "import matplotlib.pyplot as plt\n",
    "import numpy as np\n",
    "import pandas as pd\n",
    "import scipy as sp\n",
    "import seaborn as sns\n",
    "from postprocessor.core.processes.fft import fft\n",
    "from postprocessor.core.processes.findpeaks import findpeaks\n",
    "from postprocessor.routines.mean_plot import mean_plot\n",
    "\n",
    "from postprocessor.core.multisignal.crosscorr import crosscorr\n",
    "# from crosscorr import crosscorr\n",
    "from synthetic import (\n",
    "    fitzhugh_nagumo,\n",
    "    fitzhugh_nagumo_stochastic,\n",
    "    gillespie_noise,\n",
    "    gillespie_noise_raw,\n",
    "    harmonic,\n",
    "    harmonic_stochastic,\n",
    "    sinusoid,\n",
    ")\n",
    "from utils import multiarray_random_shift, simple_median_plot, tile_signals"
   ]
  },
  {
   "cell_type": "code",
   "execution_count": null,
   "id": "dc112083",
   "metadata": {
    "title": "Optional: define logistic envelope function"
   },
   "outputs": [],
   "source": [
    "def logistic_envelope(timeaxis, k_min, k_max, tau):\n",
    "    \"\"\"Logistic function, to function as envelope function for oscillations\"\"\"\n",
    "    return k_min + k_max * (1 - np.exp(-timeaxis / tau))"
   ]
  },
  {
   "cell_type": "markdown",
   "id": "3eeddfd4",
   "metadata": {},
   "source": [
    "GENERATE SIGNALS"
   ]
  },
  {
   "cell_type": "markdown",
   "id": "f9bd1f01",
   "metadata": {},
   "source": [
    "Step 1: Define parameters"
   ]
  },
  {
   "cell_type": "markdown",
   "id": "f02d0953",
   "metadata": {},
   "source": [
    "Step 2: Generate arrays of signals"
   ]
  },
  {
   "cell_type": "code",
   "execution_count": null,
   "id": "5942b9fc",
   "metadata": {
    "title": "parameters"
   },
   "outputs": [],
   "source": [
    "num_timeseries = 100\n",
    "timeaxis = np.linspace(0, 500, 500)\n",
    "#timeaxis = np.linspace(0, 100, 100)"
   ]
  },
  {
   "cell_type": "markdown",
   "id": "669f72e0",
   "metadata": {},
   "source": [
    "Choice group A: fill with same signal\n",
    "(thus using numpy.tile instead of for loop to make it fast)"
   ]
  },
  {
   "cell_type": "markdown",
   "id": "9ad8ff27",
   "metadata": {},
   "source": [
    "Choice 1: Array of FHNs"
   ]
  },
  {
   "cell_type": "code",
   "execution_count": null,
   "id": "eb910c3b",
   "metadata": {},
   "outputs": [],
   "source": [
    "fitzhugh_nagumo_single, _ = fitzhugh_nagumo(\n",
    "    timeaxis=timeaxis, ext_stimulus=0.4, tau=12.5, a=0.7, b=0.82\n",
    ")\n",
    "fitzhugh_nagumo_single -= np.mean(fitzhugh_nagumo_single)\n",
    "fitzhugh_nagumo_array = tile_signals([fitzhugh_nagumo_single], [num_timeseries])"
   ]
  },
  {
   "cell_type": "markdown",
   "id": "1a0bd16d",
   "metadata": {},
   "source": [
    "Choice 2: Array of sinusoids"
   ]
  },
  {
   "cell_type": "code",
   "execution_count": null,
   "id": "02420256",
   "metadata": {},
   "outputs": [],
   "source": [
    "sinusoid_single = sinusoid(timeaxis=timeaxis, amp=1, freq=0.0235, phase=0)\n",
    "sinusoid_array = tile_signals([sinusoid_single], [num_timeseries])"
   ]
  },
  {
   "cell_type": "markdown",
   "id": "9435cc7d",
   "metadata": {},
   "source": [
    "Choice 3: Mixed array of sinusoids"
   ]
  },
  {
   "cell_type": "code",
   "execution_count": null,
   "id": "bc9ce05c",
   "metadata": {},
   "outputs": [],
   "source": [
    "sinusoid_long = sinusoid(timeaxis=timeaxis, amp=1, freq=0.03, phase=0)\n",
    "sinusoid_short = sinusoid(timeaxis=timeaxis, amp=1, freq=0.04, phase=0)\n",
    "sinusoid_mixed_array = tile_signals([sinusoid_short, sinusoid_long], [20, 20])"
   ]
  },
  {
   "cell_type": "markdown",
   "id": "0091a25e",
   "metadata": {},
   "source": [
    "Shift phases -- grouping pairs/triplets/tuples of signals that come from\n",
    "the same sources"
   ]
  },
  {
   "cell_type": "code",
   "execution_count": null,
   "id": "e68d23dc",
   "metadata": {},
   "outputs": [],
   "source": [
    "fitzhugh_nagumo_array, sinusoid_array = multiarray_random_shift(\n",
    "    [fitzhugh_nagumo_array, sinusoid_array]\n",
    ")"
   ]
  },
  {
   "cell_type": "code",
   "execution_count": null,
   "id": "d85bdc12",
   "metadata": {},
   "outputs": [],
   "source": [
    "sinusoid_array = multiarray_random_shift([sinusoid_array])[0]"
   ]
  },
  {
   "cell_type": "code",
   "execution_count": null,
   "id": "324c4ba4",
   "metadata": {},
   "outputs": [],
   "source": [
    "sinusoid_mixed_array = multiarray_random_shift([sinusoid_mixed_array])[0]"
   ]
  },
  {
   "cell_type": "markdown",
   "id": "4d3c72b7",
   "metadata": {},
   "source": [
    "Choice group B: each row is different"
   ]
  },
  {
   "cell_type": "markdown",
   "id": "badf30ae",
   "metadata": {},
   "source": [
    "Choice 4: Array of sinusoids, random phases"
   ]
  },
  {
   "cell_type": "code",
   "execution_count": null,
   "id": "79747f2b",
   "metadata": {
    "lines_to_next_cell": 1
   },
   "outputs": [],
   "source": [
    "sinusoid_outofphase_array = np.empty((num_timeseries, len(timeaxis)), dtype=float)\n",
    "for row_index in range(num_timeseries):\n",
    "    phase = np.random.random() * 2 * np.pi\n",
    "    sinusoid_outofphase_array[row_index] = sinusoid(\n",
    "        timeaxis=timeaxis, amp=1, freq=0.03, phase=phase\n",
    "    )"
   ]
  },
  {
   "cell_type": "markdown",
   "id": "f50963c3",
   "metadata": {},
   "source": [
    "Choice 5: Mixed array of sinusoids, random phases"
   ]
  },
  {
   "cell_type": "code",
   "execution_count": null,
   "id": "c5b929b0",
   "metadata": {},
   "outputs": [],
   "source": [
    "def generate_sinusoid_outofphase_array(num_timeseries, timeaxis, freq):\n",
    "    sinusoid_outofphase_array = np.empty((num_timeseries, len(timeaxis)), dtype=float)\n",
    "    for row_index in range(num_timeseries):\n",
    "        phase = np.random.random() * 2 * np.pi\n",
    "        sinusoid_outofphase_array[row_index] = sinusoid(\n",
    "            timeaxis=timeaxis, amp=1, freq=freq, phase=phase\n",
    "        )\n",
    "    return sinusoid_outofphase_array\n",
    "\n",
    "\n",
    "sinusoid_outofphase_long = generate_sinusoid_outofphase_array(200, timeaxis, 0.03)\n",
    "sinusoid_outofphase_short = generate_sinusoid_outofphase_array(200, timeaxis, 0.04)\n",
    "sinusoid_mixed_array = np.concatenate(\n",
    "    (sinusoid_outofphase_short, sinusoid_outofphase_long)\n",
    ")"
   ]
  },
  {
   "cell_type": "markdown",
   "id": "d8c87b06",
   "metadata": {},
   "source": [
    "Choice 6: Array of sinusoids with envelope function, random phases\n",
    "(was functionalised, could make it function again if needed)"
   ]
  },
  {
   "cell_type": "code",
   "execution_count": null,
   "id": "999ba95a",
   "metadata": {},
   "outputs": [],
   "source": [
    "k_min = 1\n",
    "k_max = 10\n",
    "tau = 100\n",
    "envelope = logistic_envelope(timeaxis=timeaxis, k_min=k_min, k_max=k_max, tau=tau)\n",
    "nonstat_sinusoid_array = np.empty((num_timeseries, len(timeaxis)), dtype=float)\n",
    "for row_index in range(num_timeseries):\n",
    "    phase = np.random.random() * 2 * np.pi\n",
    "    nonstat_sinusoid_array[row_index] = envelope * sinusoid(\n",
    "        timeaxis=timeaxis, amp=1, freq=0.03, phase=phase\n",
    "    )"
   ]
  },
  {
   "cell_type": "markdown",
   "id": "faddcfdd",
   "metadata": {},
   "source": [
    "Step 3: Generate arrays of noise"
   ]
  },
  {
   "cell_type": "markdown",
   "id": "9f061cf6",
   "metadata": {},
   "source": [
    "Choice 1: white/Gaussian noise"
   ]
  },
  {
   "cell_type": "code",
   "execution_count": null,
   "id": "b308b71d",
   "metadata": {},
   "outputs": [],
   "source": [
    "white_noise_std = 3\n",
    "white_noise_array1 = np.random.normal(\n",
    "    loc=0, scale=white_noise_std, size=(num_timeseries, len(timeaxis))\n",
    ")\n",
    "white_noise_array2 = np.random.normal(\n",
    "    loc=0, scale=white_noise_std, size=(num_timeseries, len(timeaxis))\n",
    ")"
   ]
  },
  {
   "cell_type": "markdown",
   "id": "02a296a0",
   "metadata": {},
   "source": [
    "Choice 2: Gillespie noise"
   ]
  },
  {
   "cell_type": "code",
   "execution_count": null,
   "id": "49e0d400",
   "metadata": {},
   "outputs": [],
   "source": [
    "# SET PARAMETERS\n",
    "noise_timescale = 20\n",
    "noise_amp = 100\n",
    "gill_time_final = 7500\n",
    "gill_num_intervals = 5000"
   ]
  },
  {
   "cell_type": "code",
   "execution_count": null,
   "id": "331c7967",
   "metadata": {},
   "outputs": [],
   "source": [
    "# GENERATE noise array\n",
    "gill_noise_array = gillespie_noise(\n",
    "    num_timeseries=num_timeseries,\n",
    "    num_timepoints=len(timeaxis),\n",
    "    noise_timescale=noise_timescale,\n",
    "    noise_amp=noise_amp,\n",
    "    time_final=gill_time_final,\n",
    "    grid_num_intervals=gill_num_intervals,\n",
    ")"
   ]
  },
  {
   "cell_type": "code",
   "execution_count": null,
   "id": "ec4e8bc8",
   "metadata": {},
   "outputs": [],
   "source": [
    "# Filename generator\n",
    "deathrate = 1 / noise_timescale\n",
    "birthrate = noise_amp / noise_timescale\n",
    "deathrate_str = str(deathrate).replace(\".\", \"p\")\n",
    "birthrate_str = str(birthrate).replace(\".\", \"p\")\n",
    "gill_noise_filename = \"gillespienoise_k\" + birthrate_str + \"_d\" + deathrate_str + \".csv\"\n",
    "# LOAD noise array\n",
    "gill_noise_array = np.genfromtxt(gill_noise_filename, delimiter=\",\")"
   ]
  },
  {
   "cell_type": "markdown",
   "id": "60d997a9",
   "metadata": {},
   "source": [
    "Step 4: Assign signal and noisy arrays, then construct final dataframes"
   ]
  },
  {
   "cell_type": "markdown",
   "id": "c5993012",
   "metadata": {},
   "source": [
    "Step 4.1: Assign signal arrays"
   ]
  },
  {
   "cell_type": "code",
   "execution_count": null,
   "id": "5b396822",
   "metadata": {},
   "outputs": [],
   "source": [
    "signal_array1 = sinusoid_array\n",
    "signal_array2 = fitzhugh_nagumo_array"
   ]
  },
  {
   "cell_type": "markdown",
   "id": "f92cac4f",
   "metadata": {},
   "source": [
    "Step 4.2: Assign noise arrays"
   ]
  },
  {
   "cell_type": "code",
   "execution_count": null,
   "id": "597d9059",
   "metadata": {},
   "outputs": [],
   "source": [
    "noise_array1 = gill_noise_array\n",
    "\n",
    "noise_array2 = gill_noise_array.copy()\n",
    "rng = np.random.default_rng()\n",
    "rng.shuffle(noise_array2)\n",
    "# noise_array2 = white_noise_array2"
   ]
  },
  {
   "cell_type": "code",
   "execution_count": null,
   "id": "93bfbab7",
   "metadata": {},
   "outputs": [],
   "source": [
    "# Filename generator for next two cells\n",
    "# noise_timescale = 200\n",
    "# noise_amp = 1000\n",
    "\n",
    "deathrate = 1 / noise_timescale\n",
    "birthrate = noise_amp / noise_timescale\n",
    "deathrate_str = str(deathrate).replace(\".\", \"p\")\n",
    "birthrate_str = str(birthrate).replace(\".\", \"p\")\n",
    "filename = \"gillespienoise_k\" + birthrate_str + \"_d\" + deathrate_str + \".csv\"\n",
    "print(filename)"
   ]
  },
  {
   "cell_type": "code",
   "execution_count": null,
   "id": "e6cbab86",
   "metadata": {},
   "outputs": [],
   "source": [
    "# Alternative: LOAD noise array(s)\n",
    "gill_noise_array = np.genfromtxt(filename, delimiter=\",\")"
   ]
  },
  {
   "cell_type": "code",
   "execution_count": null,
   "id": "7d816bf9",
   "metadata": {},
   "outputs": [],
   "source": [
    "# Optional: SAVE noise array(s)\n",
    "# Useful for Gillespie noise because it takes time to generate,\n",
    "# especially for long final times.\n",
    "deathrate = 1 / noise_timescale\n",
    "birthrate = noise_amp / noise_timescale\n",
    "deathrate_str = str(deathrate).replace(\".\", \"p\")\n",
    "birthrate_str = str(birthrate).replace(\".\", \"p\")\n",
    "filename = \"gillespienoise_k\" + birthrate_str + \"_d\" + deathrate_str + \".csv\"\n",
    "\n",
    "np.savetxt(filename, gill_noise_array, delimiter=\",\")"
   ]
  },
  {
   "cell_type": "markdown",
   "id": "dd5a3097",
   "metadata": {},
   "source": [
    "Step 4.3: Add signal and noise"
   ]
  },
  {
   "cell_type": "code",
   "execution_count": null,
   "id": "caf83d3f",
   "metadata": {},
   "outputs": [],
   "source": [
    "signal_array1 = signal_array1 + noise_array1\n",
    "signal_array2 = signal_array2 + noise_array2"
   ]
  },
  {
   "cell_type": "markdown",
   "id": "cad68319",
   "metadata": {},
   "source": [
    "Alternative: harmonic oscillation with stochastic parameters"
   ]
  },
  {
   "cell_type": "code",
   "execution_count": null,
   "id": "2fcd8f03",
   "metadata": {},
   "outputs": [],
   "source": [
    "# Generate Gillespie noise (raw)\n",
    "noise_timescale = 20\n",
    "noise_amp = 500\n",
    "\n",
    "gill_time_final = 750 #0\n",
    "gill_num_intervals = 500 #0\n",
    "gill_noise_time, gill_noise_list = gillespie_noise_raw(\n",
    "    num_timeseries=num_timeseries,\n",
    "    noise_timescale=noise_timescale,\n",
    "    noise_amp=noise_amp,\n",
    "    time_final=gill_time_final,\n",
    ")\n",
    "\n",
    "print(\"Gillespie noise generated.\")\n",
    "\n",
    "# Model parameter\n",
    "ang_freq = 0.3\n",
    "# Noise parameter\n",
    "std = 0.015\n",
    "\n",
    "# Scale Gillespie time axis to fit time axis\n",
    "for gill_time_element in gill_noise_time:\n",
    "    gill_time_element -= gill_time_element[0]\n",
    "    gill_time_element *= timeaxis[-1] / gill_time_element[-1]\n",
    "\n",
    "# Scale noise array to create angular frequency array\n",
    "# ang_freq_2darray = (gill_noise_array * std) + ang_freq\n",
    "ang_freq_2darray = [\n",
    "    (gill_noise_element * std) + ang_freq for gill_noise_element in gill_noise_list\n",
    "]\n",
    "\n",
    "# Generate sinusoids via harmonic DEs, with stochastic angular frequency\n",
    "# defined by gill_noise_array\n",
    "# TODO: Make this faster, this is ridiculously slow\n",
    "stoch_signal_list = []\n",
    "for row_index in range(num_timeseries):\n",
    "    # Random phase shift\n",
    "    # Determine initial conditions...\n",
    "    # (add code here)\n",
    "\n",
    "    # Generate sinusoid\n",
    "    print(f\"Generating time series {row_index+1} of {num_timeseries}\")\n",
    "    print(\"Stochastic\")\n",
    "    stoch_signal, _ = harmonic_stochastic(\n",
    "        timeaxis=gill_noise_time[row_index],\n",
    "        ang_freq_array=ang_freq_2darray[row_index],\n",
    "    )\n",
    "    stoch_signal_list.append(stoch_signal)\n",
    "    print(\"Done\")\n",
    "    \n",
    "determ_signal, _ = harmonic(\n",
    "    timeaxis=timeaxis,\n",
    "    ang_freq=ang_freq,\n",
    ")"
   ]
  },
  {
   "cell_type": "code",
   "execution_count": null,
   "id": "5fd6d695",
   "metadata": {
    "scrolled": true
   },
   "outputs": [],
   "source": [
    "plt.subplots(figsize=(10,5))\n",
    "plt.step(gill_noise_time[0], gill_noise_list[0])\n",
    "#plt.plot(gill_noise_time[0], gill_noise_list[0])\n",
    "plt.title('gillespie noise')\n",
    "\n",
    "plt.subplots()\n",
    "plt.plot(np.diff(gill_noise_time[0]))\n",
    "plt.title('time interval over time point')\n",
    "\n",
    "plt.subplots(figsize=(10,5))\n",
    "plt.step(gill_noise_time[0], ang_freq_2darray[0])\n",
    "#plt.plot(gill_noise_time[0], ang_freq_2darray[0])\n",
    "plt.title('angular frequency')\n",
    "\n",
    "plt.subplots(figsize=(10,5))\n",
    "plt.plot(gill_noise_time[0], stoch_signal_list[0], '-o')\n",
    "plt.title('stochastic simulated signal')\n",
    "\n",
    "plt.subplots(figsize=(10,5))\n",
    "plt.plot(timeaxis, determ_signal, '-o')\n",
    "plt.title('deterministic simulated signal')\n",
    "\n",
    "plt.subplots()\n",
    "plt.plot(np.diff(timeaxis))\n",
    "plt.title('time interval over time point')"
   ]
  },
  {
   "cell_type": "markdown",
   "id": "27b7b6a8",
   "metadata": {},
   "source": [
    "Alternative: FitzHugh-Nagumo model with stochastic parameters"
   ]
  },
  {
   "cell_type": "code",
   "execution_count": null,
   "id": "09759af8",
   "metadata": {},
   "outputs": [],
   "source": [
    "# TECH DEBT: HARD-CODING\n",
    "num_timeseries = 1\n",
    "timeaxis = np.linspace(0, 100, 100)\n",
    "\n",
    "# Generate Gillespie noise (raw)\n",
    "noise_timescale = 20\n",
    "noise_amp = 500\n",
    "\n",
    "gill_time_final = 750 #0\n",
    "gill_num_intervals = 500 #0\n",
    "gill_noise_time, gill_noise_list = gillespie_noise_raw(\n",
    "    num_timeseries=num_timeseries,\n",
    "    noise_timescale=noise_timescale,\n",
    "    noise_amp=noise_amp,\n",
    "    time_final=gill_time_final,\n",
    ")\n",
    "\n",
    "print(\"Gillespie noise generated.\")\n",
    "\n",
    "# Model parameters\n",
    "ext_stimulus = 0.4\n",
    "tau = 12.5\n",
    "a = 0.7\n",
    "b = 0.8\n",
    "# Noise parameter\n",
    "std = 0.015\n",
    "\n",
    "# Scale noise array to create ext_stimulus array\n",
    "# TODO: Use a different gill_noise_array per each parameter -- i.e.\n",
    "# generate a 4x size gill_noise_array and slice that into four\n",
    "\n",
    "ext_stimulus_2darray = [\n",
    "    (gill_noise_element * std) + ext_stimulus for gill_noise_element in gill_noise_list\n",
    "]\n",
    "tau_2darray = [\n",
    "    (gill_noise_element * std) + tau for gill_noise_element in gill_noise_list\n",
    "]\n",
    "a_2darray = [\n",
    "    (gill_noise_element * std) + a for gill_noise_element in gill_noise_list\n",
    "]\n",
    "b_2darray = [\n",
    "    (gill_noise_element * std) + b for gill_noise_element in gill_noise_list\n",
    "]\n",
    "\n",
    "#ext_stimulus_array = (gill_noise_list[0] * std) + ext_stimulus\n",
    "#tau_array = (gill_noise_list[1] * std) + tau\n",
    "#a_array = (gill_noise_list[2] * std) + a\n",
    "#b_array = (gill_noise_list[3] * std) + b\n",
    "\n",
    "# Generate time series via FHN DEs, with stochastic parameters\n",
    "# defined by gill_noise_array\n",
    "# TODO: Make this faster, this is ridiculously slow\n",
    "stoch_signal_list = []\n",
    "for row_index in range(num_timeseries):\n",
    "    # Random phase shift\n",
    "    # Determine initial conditions...\n",
    "    # (add code here)\n",
    "\n",
    "    # Generate signal\n",
    "    print(f\"Generating time series {row_index+1} of {num_timeseries}\")\n",
    "    print(\"Stochastic\")\n",
    "    stoch_signal, _ = fitzhugh_nagumo_stochastic(\n",
    "        timeaxis=gill_noise_time[0],\n",
    "        ext_stimulus_array=ext_stimulus_2darray[row_index],\n",
    "        tau_array=tau_2darray[row_index],\n",
    "        a_array=a_2darray[row_index],\n",
    "        b_array=b_2darray[row_index],\n",
    "    )\n",
    "    stoch_signal_list.append(stoch_signal)\n",
    "    print(\"Done\")\n",
    "\n",
    "determ_signal, _ = fitzhugh_nagumo(\n",
    "    timeaxis=timeaxis, ext_stimulus=0.4, tau=12.5, a=0.7, b=0.8\n",
    ")"
   ]
  },
  {
   "cell_type": "code",
   "execution_count": null,
   "id": "7cb56353",
   "metadata": {
    "scrolled": false
   },
   "outputs": [],
   "source": [
    "plt.subplots(figsize=(10,5))\n",
    "plt.step(gill_noise_time[0], gill_noise_list[0])\n",
    "#plt.plot(gill_noise_time[0], gill_noise_list[0])\n",
    "plt.title('gillespie noise')\n",
    "\n",
    "plt.subplots()\n",
    "plt.plot(np.diff(gill_noise_time[0]))\n",
    "plt.title('time interval over time point')\n",
    "\n",
    "plt.subplots(figsize=(10,5))\n",
    "plt.step(gill_noise_time[0], ext_stimulus_2darray[0])\n",
    "#plt.plot(gill_noise_time[0], ang_freq_2darray[0])\n",
    "plt.title('ext stimulus')\n",
    "\n",
    "plt.subplots(figsize=(10,5))\n",
    "plt.plot(gill_noise_time[0], stoch_signal_list[0], '-o')\n",
    "plt.title('stochastic simulated signal')\n",
    "\n",
    "plt.subplots(figsize=(10,5))\n",
    "plt.plot(timeaxis, determ_signal, '-o')\n",
    "plt.title('deterministic simulated signal')\n",
    "\n",
    "plt.subplots()\n",
    "plt.plot(np.diff(timeaxis))\n",
    "plt.title('time interval over time point')"
   ]
  },
  {
   "cell_type": "markdown",
   "id": "a1b9bdb8",
   "metadata": {},
   "source": [
    "Step 4.4: Construct dataframes for correlation processes"
   ]
  },
  {
   "cell_type": "code",
   "execution_count": null,
   "id": "2f473c81",
   "metadata": {},
   "outputs": [],
   "source": [
    "signal_df1 = pd.DataFrame(signal_array1)\n",
    "signal_df2 = pd.DataFrame(signal_array2)"
   ]
  },
  {
   "cell_type": "markdown",
   "id": "24d6b8fd",
   "metadata": {},
   "source": [
    "Step 5: Autocorrelation & cross-correlation"
   ]
  },
  {
   "cell_type": "markdown",
   "id": "4f14b4af",
   "metadata": {},
   "source": [
    "Autocorrelation"
   ]
  },
  {
   "cell_type": "code",
   "execution_count": null,
   "id": "b2a997f8",
   "metadata": {},
   "outputs": [],
   "source": [
    "autocorr_result = crosscorr.as_function(\n",
    "    signal_df1, stationary=False, normalised=True, only_pos=True\n",
    ")"
   ]
  },
  {
   "cell_type": "markdown",
   "id": "3d63adf5",
   "metadata": {},
   "source": [
    "Cross-correlation"
   ]
  },
  {
   "cell_type": "code",
   "execution_count": null,
   "id": "b5dde732",
   "metadata": {},
   "outputs": [],
   "source": [
    "crosscorr_result = crosscorr.as_function(signal_df1, signal_df2)"
   ]
  },
  {
   "cell_type": "markdown",
   "id": "45c657f3",
   "metadata": {},
   "source": [
    "Mean across replicates"
   ]
  },
  {
   "cell_type": "code",
   "execution_count": null,
   "id": "0c7f6067",
   "metadata": {},
   "outputs": [],
   "source": [
    "mean_across_replicates = np.nanmean(signal_array1, axis=0).reshape(\n",
    "    (1, signal_array1.shape[1])\n",
    ")\n",
    "mean_across_replicates = mean_across_replicates.T"
   ]
  },
  {
   "cell_type": "markdown",
   "id": "dcffbc23",
   "metadata": {},
   "source": [
    "PLOTTING"
   ]
  },
  {
   "cell_type": "markdown",
   "id": "9a18d562",
   "metadata": {},
   "source": [
    "input data"
   ]
  },
  {
   "cell_type": "code",
   "execution_count": null,
   "id": "aa9b98b9",
   "metadata": {},
   "outputs": [],
   "source": [
    "sns.heatmap(signal_df1)"
   ]
  },
  {
   "cell_type": "code",
   "execution_count": null,
   "id": "c1814f97",
   "metadata": {},
   "outputs": [],
   "source": [
    "sns.heatmap(signal_df2)"
   ]
  },
  {
   "cell_type": "markdown",
   "id": "28f713e1",
   "metadata": {},
   "source": [
    "gillespie noise"
   ]
  },
  {
   "cell_type": "code",
   "execution_count": null,
   "id": "7086200c",
   "metadata": {},
   "outputs": [],
   "source": [
    "gill_array = signal_array1\n",
    "fig, ax = plt.subplots(figsize=(12, 4))\n",
    "ax.plot(\n",
    "    mean_across_replicates,\n",
    "    linewidth=3,\n",
    "    label=f\"mean across {gill_array.shape[0]} replicates\",\n",
    ")\n",
    "ax.plot(gill_array[0], linewidth=1, label=\"replicate 1\")\n",
    "ax.plot(gill_array[1], linewidth=1, label=\"replicate 2\")\n",
    "ax.set_xlabel(\"Time point\")\n",
    "ax.set_ylabel(\"Signal\")\n",
    "fig.legend()"
   ]
  },
  {
   "cell_type": "markdown",
   "id": "86bfbc9e",
   "metadata": {},
   "source": [
    "acf of signals with gillespie noise, with options"
   ]
  },
  {
   "cell_type": "code",
   "execution_count": null,
   "id": "c71419c3",
   "metadata": {},
   "outputs": [],
   "source": [
    "fit_exp_decay = True\n",
    "scale_lag_by_pd = True\n",
    "freq = 0.03\n",
    "\n",
    "fig, ax = plt.subplots()\n",
    "\n",
    "# scale lag axis by sinusoid period\n",
    "autocorr_result_scaled = autocorr_result.copy()\n",
    "if scale_lag_by_pd:\n",
    "    freq = freq\n",
    "    xlabel = \"Lag (periods)\"\n",
    "    plt.vlines(x=[1, 2, 3, 4], ymin=-1, ymax=1, ls=\"--\")\n",
    "else:\n",
    "    freq = 1\n",
    "    xlabel = \"Lag (time points)\"\n",
    "autocorr_result_scaled.columns *= freq\n",
    "\n",
    "# fit exp decay\n",
    "if fit_exp_decay:\n",
    "    decayrate = (gill_time_final / (gill_num_intervals - 1)) * (1 / noise_timescale)\n",
    "    t = autocorr_result.columns.to_numpy()\n",
    "    decay_function = np.exp(-(decayrate) * t)\n",
    "    ax.plot(t * freq, decay_function, color=\"r\")\n",
    "\n",
    "# draw acf\n",
    "simple_median_plot(\n",
    "    autocorr_result_scaled,\n",
    "    xlabel=xlabel,\n",
    "    ylabel=\"Autocorrelation function\",\n",
    "    ax=ax,\n",
    ")\n",
    "# and axes\n",
    "plt.axhline(0, color=\"k\")\n",
    "plt.axvline(0, color=\"k\")"
   ]
  },
  {
   "cell_type": "markdown",
   "id": "dbbe9221",
   "metadata": {},
   "source": [
    "at longer lags, fewer data points are used to compute acf, and thus the std dev across replicate acfs at those points are greater"
   ]
  },
  {
   "cell_type": "code",
   "execution_count": null,
   "id": "64c6ef9e",
   "metadata": {},
   "outputs": [],
   "source": [
    "lag = np.linspace(0, 499, 500)\n",
    "num_datapoints = signal_array1.shape[1] * np.linspace(500, 1, 500)\n",
    "acf_variation = np.std(autocorr_result)\n",
    "\n",
    "fig, ax = plt.subplots()\n",
    "ax.plot(num_datapoints, acf_variation)\n",
    "ax.set_xlabel(\"Number of data points used at lag value\")\n",
    "ax.set_ylabel(\"Standard deviation of\\nautocorrelation function values at lag value\")"
   ]
  },
  {
   "cell_type": "markdown",
   "id": "2c41b81f",
   "metadata": {},
   "source": [
    "variation between acfs, expressed as area the curve of std dev change over lag time"
   ]
  },
  {
   "cell_type": "code",
   "execution_count": null,
   "id": "15e697ad",
   "metadata": {},
   "outputs": [],
   "source": [
    "std_array = autocorr_result.std(axis=0)\n",
    "plt.plot(std_array)\n",
    "auc = np.trapz(std_array)\n",
    "print(auc)"
   ]
  },
  {
   "cell_type": "markdown",
   "id": "383c3f08",
   "metadata": {},
   "source": [
    "robustness: fft computed and power at oscillation frequency examined"
   ]
  },
  {
   "cell_type": "code",
   "execution_count": null,
   "id": "3d533976",
   "metadata": {},
   "outputs": [],
   "source": [
    "fft_freqs, fft_power = fft.as_function(autocorr_result, sampling_period=1)\n",
    "\n",
    "fig_fft, ax_fft = plt.subplots()\n",
    "mean_plot(\n",
    "    fft_power,\n",
    "    unit_scaling=fft_freqs.iloc[0, 1],\n",
    "    label=\"\",\n",
    "    xlabel=\"Frequency ($\\mathrm{min}^{-1}$)\",\n",
    "    ylabel=\"Power\",\n",
    "    plot_title=f\"Mean Fourier spectrum across all time series\\n(n = {len(fft_power)})\",\n",
    "    ax=ax_fft,\n",
    ")\n",
    "ax_fft.axvline(\n",
    "    freq,\n",
    "    color=\"r\",\n",
    "    linestyle=\"--\",\n",
    ")\n",
    "\n",
    "index_freq = np.argwhere(fft_freqs.iloc[0].to_numpy() == 0.03)[0][0]\n",
    "powers_at_freq = fft_power.iloc[:, index_freq]\n",
    "print(f\"mean power at freq = {np.mean(powers_at_freq)}\")\n",
    "print(f\"std dev of power at freq = {np.std(powers_at_freq)}\")"
   ]
  },
  {
   "cell_type": "markdown",
   "id": "2774ab0c",
   "metadata": {},
   "source": [
    "envelope function"
   ]
  },
  {
   "cell_type": "code",
   "execution_count": null,
   "id": "b9ec46c0",
   "metadata": {
    "lines_to_next_cell": 1
   },
   "outputs": [],
   "source": [
    "# find peaks & troughs\n",
    "mean_acf_df = autocorr_result.mean().to_frame().T\n",
    "peaks_df = findpeaks.as_function(mean_acf_df)\n",
    "troughs_df = findpeaks.as_function(-mean_acf_df)\n",
    "\n",
    "# datatype conversions\n",
    "timeaxis = mean_acf_df.columns.to_numpy()\n",
    "mean_acf = mean_acf_df.to_numpy()[0]\n",
    "peaks_mask = peaks_df.to_numpy()[0] != 0\n",
    "troughs_mask = troughs_df.to_numpy()[0] != 0"
   ]
  },
  {
   "cell_type": "code",
   "execution_count": null,
   "id": "b1e918f7",
   "metadata": {},
   "outputs": [],
   "source": [
    "# https://stackoverflow.com/questions/3938042/fitting-exponential-decay-with-no-initial-guessing\n",
    "def model_func(t, A, K, C):\n",
    "    return A * np.exp(-K * t) + C\n",
    "\n",
    "\n",
    "def fit_exp_linear(t, y, C=0):\n",
    "    y = y - C\n",
    "    y = np.log(y)\n",
    "    K, A_log = np.polyfit(t, y, 1)\n",
    "    A = np.exp(A_log)\n",
    "    return A, K\n",
    "\n",
    "\n",
    "def fit_exp_nonlinear(t, y, p0):\n",
    "    opt_parms, parm_cov = sp.optimize.curve_fit(model_func, t, y, p0, maxfev=1000)\n",
    "    A, K, C = opt_parms\n",
    "    return A, K, C\n",
    "\n",
    "\n",
    "# initial guess is the decay function in acf plot\n",
    "central_decay_rate = (gill_time_final / (gill_num_intervals - 1)) * (\n",
    "    1 / noise_timescale\n",
    ")\n",
    "initial_A = 1\n",
    "initial_K = central_decay_rate\n",
    "initial_C = 0\n",
    "initial_guess = [initial_A, initial_K, initial_C]\n",
    "\n",
    "# fit peaks\n",
    "upper_A, upper_K, upper_C = fit_exp_nonlinear(\n",
    "    timeaxis[peaks_mask],\n",
    "    mean_acf[peaks_mask],\n",
    "    p0=initial_guess,\n",
    ")\n",
    "upper_func = model_func(timeaxis, upper_A, upper_K, upper_C)\n",
    "\n",
    "# fit troughs\n",
    "lower_A, lower_K, lower_C = fit_exp_nonlinear(\n",
    "    timeaxis[troughs_mask],\n",
    "    -mean_acf[troughs_mask],\n",
    "    p0=initial_guess,\n",
    ")\n",
    "lower_func = -model_func(timeaxis, lower_A, lower_K, lower_C)"
   ]
  },
  {
   "cell_type": "code",
   "execution_count": null,
   "id": "8b9674da",
   "metadata": {},
   "outputs": [],
   "source": [
    "plt.plot(timeaxis, mean_acf)\n",
    "plt.scatter(timeaxis[peaks_mask], mean_acf[peaks_mask])\n",
    "plt.scatter(timeaxis[troughs_mask], mean_acf[troughs_mask])\n",
    "plt.plot(timeaxis, upper_func)\n",
    "plt.plot(timeaxis, lower_func)\n",
    "\n",
    "print(f\"upper envelope: {upper_A:.4f} * exp(- {upper_K:.4f}) + {upper_C:.4f}\")\n",
    "print(f\"lower envelope: {lower_A:.4f} * exp(- {lower_K:.4f}) + {lower_C:.4f}\")"
   ]
  },
  {
   "cell_type": "markdown",
   "id": "c1835a5c",
   "metadata": {},
   "source": [
    "cross-correlation"
   ]
  },
  {
   "cell_type": "code",
   "execution_count": null,
   "id": "e510ade7",
   "metadata": {},
   "outputs": [],
   "source": [
    "plt.plot(sinusoid_array[0])\n",
    "plt.plot(fitzhugh_nagumo_array[0])"
   ]
  },
  {
   "cell_type": "code",
   "execution_count": null,
   "id": "85b546cf",
   "metadata": {},
   "outputs": [],
   "source": [
    "plt.plot(signal_df1[0])\n",
    "plt.plot(signal_df2[0])"
   ]
  },
  {
   "cell_type": "code",
   "execution_count": null,
   "id": "9ee6225f",
   "metadata": {},
   "outputs": [],
   "source": [
    "simple_median_plot(\n",
    "    crosscorr_result, ylabel=\"Cross correlation\", xlabel=\"Lag (time points)\"\n",
    ")\n",
    "plt.axhline(0, color=\"k\")\n",
    "plt.axvline(0, color=\"k\")"
   ]
  }
 ],
 "metadata": {
  "jupytext": {
   "cell_metadata_filter": "title,-all",
   "executable": "/usr/bin/env python3",
   "main_language": "python",
   "notebook_metadata_filter": "-all"
  },
  "kernelspec": {
   "display_name": "aliby",
   "language": "python",
   "name": "aliby"
  },
  "language_info": {
   "codemirror_mode": {
    "name": "ipython",
    "version": 3
   },
   "file_extension": ".py",
   "mimetype": "text/x-python",
   "name": "python",
   "nbconvert_exporter": "python",
   "pygments_lexer": "ipython3",
   "version": "3.8.14"
  }
 },
 "nbformat": 4,
 "nbformat_minor": 5
}
