{
 "cells": [
  {
   "cell_type": "code",
   "execution_count": null,
   "id": "b3fbcd27-4397-4db9-ba55-15007e26b20b",
   "metadata": {},
   "outputs": [],
   "source": [
    "import os\n",
    "import sys\n",
    "module_path = os.path.abspath(os.path.join('..'))\n",
    "if module_path not in sys.path:\n",
    "    sys.path.append(module_path)\n",
    "    \n",
    "%reload_ext autoreload\n",
    "%autoreload 2\n",
    "%matplotlib inline"
   ]
  },
  {
   "cell_type": "code",
   "execution_count": null,
   "id": "1332ea44",
   "metadata": {
    "title": "Import requirements"
   },
   "outputs": [],
   "source": [
    "import matplotlib.pyplot as plt\n",
    "import numpy as np\n",
    "import pandas as pd\n",
    "import scipy as sp\n",
    "import seaborn as sns\n",
    "from postprocessor.core.processes.fft import fft\n",
    "from postprocessor.core.processes.findpeaks import findpeaks\n",
    "from postprocessor.routines.mean_plot import mean_plot\n",
    "\n",
    "from postprocessor.core.multisignal.crosscorr import crosscorr\n",
    "# from src.crosscorr import crosscorr\n",
    "from src.synthetic import (\n",
    "    fitzhugh_nagumo,\n",
    "    fitzhugh_nagumo_stochastic,\n",
    "    gillespie_noise,\n",
    "    gillespie_noise_raw,\n",
    "    harmonic,\n",
    "    harmonic_stochastic,\n",
    "    sinusoid,\n",
    ")\n",
    "from src.utils import multiarray_random_shift, simple_median_plot, tile_signals"
   ]
  },
  {
   "cell_type": "markdown",
   "id": "3eeddfd4",
   "metadata": {},
   "source": [
    "GENERATE SIGNALS"
   ]
  },
  {
   "cell_type": "markdown",
   "id": "f9bd1f01",
   "metadata": {},
   "source": [
    "Step 1: Define parameters"
   ]
  },
  {
   "cell_type": "markdown",
   "id": "f02d0953",
   "metadata": {},
   "source": [
    "Step 2: Generate arrays of signals"
   ]
  },
  {
   "cell_type": "code",
   "execution_count": null,
   "id": "5942b9fc",
   "metadata": {
    "title": "parameters"
   },
   "outputs": [],
   "source": [
    "num_timeseries = 100\n",
    "timeaxis = np.linspace(0, 500, 500)"
   ]
  },
  {
   "cell_type": "markdown",
   "id": "669f72e0",
   "metadata": {},
   "source": [
    "Choice group A: fill with same signal\n",
    "(thus using numpy.tile instead of for loop to make it fast)"
   ]
  },
  {
   "cell_type": "markdown",
   "id": "9ad8ff27",
   "metadata": {},
   "source": [
    "Choice 1: Array of FHNs"
   ]
  },
  {
   "cell_type": "code",
   "execution_count": null,
   "id": "eb910c3b",
   "metadata": {},
   "outputs": [],
   "source": [
    "fitzhugh_nagumo_single, _ = fitzhugh_nagumo(\n",
    "    timeaxis=timeaxis, ext_stimulus=0.4, tau=12.5, a=0.7, b=0.82\n",
    ")\n",
    "fitzhugh_nagumo_single -= np.mean(fitzhugh_nagumo_single)\n",
    "fitzhugh_nagumo_array = tile_signals([fitzhugh_nagumo_single], [num_timeseries])"
   ]
  },
  {
   "cell_type": "markdown",
   "id": "1a0bd16d",
   "metadata": {},
   "source": [
    "Choice 2: Array of sinusoids"
   ]
  },
  {
   "cell_type": "code",
   "execution_count": null,
   "id": "02420256",
   "metadata": {},
   "outputs": [],
   "source": [
    "sinusoid_single = sinusoid(timeaxis=timeaxis, amp=1, freq=0.0235, phase=0)\n",
    "sinusoid_array = tile_signals([sinusoid_single], [num_timeseries])"
   ]
  },
  {
   "cell_type": "markdown",
   "id": "9435cc7d",
   "metadata": {},
   "source": [
    "Choice 3: Mixed array of sinusoids"
   ]
  },
  {
   "cell_type": "code",
   "execution_count": null,
   "id": "bc9ce05c",
   "metadata": {},
   "outputs": [],
   "source": [
    "sinusoid_long = sinusoid(timeaxis=timeaxis, amp=1, freq=0.03, phase=0)\n",
    "sinusoid_short = sinusoid(timeaxis=timeaxis, amp=1, freq=0.04, phase=0)\n",
    "sinusoid_mixed_array = tile_signals([sinusoid_short, sinusoid_long], [20, 20])"
   ]
  },
  {
   "cell_type": "markdown",
   "id": "0091a25e",
   "metadata": {},
   "source": [
    "Shift phases -- grouping pairs/triplets/tuples of signals that come from\n",
    "the same sources"
   ]
  },
  {
   "cell_type": "code",
   "execution_count": null,
   "id": "e68d23dc",
   "metadata": {},
   "outputs": [],
   "source": [
    "fitzhugh_nagumo_array, sinusoid_array = multiarray_random_shift(\n",
    "    [fitzhugh_nagumo_array, sinusoid_array]\n",
    ")"
   ]
  },
  {
   "cell_type": "code",
   "execution_count": null,
   "id": "d85bdc12",
   "metadata": {},
   "outputs": [],
   "source": [
    "sinusoid_array = multiarray_random_shift([sinusoid_array])[0]"
   ]
  },
  {
   "cell_type": "code",
   "execution_count": null,
   "id": "324c4ba4",
   "metadata": {},
   "outputs": [],
   "source": [
    "sinusoid_mixed_array = multiarray_random_shift([sinusoid_mixed_array])[0]"
   ]
  },
  {
   "cell_type": "markdown",
   "id": "4d3c72b7",
   "metadata": {},
   "source": [
    "Choice group B: each row is different"
   ]
  },
  {
   "cell_type": "markdown",
   "id": "badf30ae",
   "metadata": {},
   "source": [
    "Choice 4: Array of sinusoids, random phases"
   ]
  },
  {
   "cell_type": "code",
   "execution_count": null,
   "id": "79747f2b",
   "metadata": {
    "lines_to_next_cell": 1
   },
   "outputs": [],
   "source": [
    "sinusoid_outofphase_array = np.empty((num_timeseries, len(timeaxis)), dtype=float)\n",
    "for row_index in range(num_timeseries):\n",
    "    phase = np.random.random() * 2 * np.pi\n",
    "    sinusoid_outofphase_array[row_index] = sinusoid(\n",
    "        timeaxis=timeaxis, amp=1, freq=0.03, phase=phase\n",
    "    )"
   ]
  },
  {
   "cell_type": "markdown",
   "id": "f50963c3",
   "metadata": {},
   "source": [
    "Choice 5: Mixed array of sinusoids, random phases"
   ]
  },
  {
   "cell_type": "code",
   "execution_count": null,
   "id": "c5b929b0",
   "metadata": {},
   "outputs": [],
   "source": [
    "def generate_sinusoid_outofphase_array(num_timeseries, timeaxis, freq):\n",
    "    sinusoid_outofphase_array = np.empty((num_timeseries, len(timeaxis)), dtype=float)\n",
    "    for row_index in range(num_timeseries):\n",
    "        phase = np.random.random() * 2 * np.pi\n",
    "        sinusoid_outofphase_array[row_index] = sinusoid(\n",
    "            timeaxis=timeaxis, amp=1, freq=freq, phase=phase\n",
    "        )\n",
    "    return sinusoid_outofphase_array\n",
    "\n",
    "\n",
    "sinusoid_outofphase_long = generate_sinusoid_outofphase_array(200, timeaxis, 0.03)\n",
    "sinusoid_outofphase_short = generate_sinusoid_outofphase_array(200, timeaxis, 0.04)\n",
    "sinusoid_mixed_array = np.concatenate(\n",
    "    (sinusoid_outofphase_short, sinusoid_outofphase_long)\n",
    ")"
   ]
  },
  {
   "cell_type": "markdown",
   "id": "faddcfdd",
   "metadata": {},
   "source": [
    "Step 3: Generate arrays of noise"
   ]
  },
  {
   "cell_type": "markdown",
   "id": "9f061cf6",
   "metadata": {},
   "source": [
    "Choice 1: white/Gaussian noise"
   ]
  },
  {
   "cell_type": "code",
   "execution_count": null,
   "id": "b308b71d",
   "metadata": {},
   "outputs": [],
   "source": [
    "white_noise_std = 3\n",
    "white_noise_array1 = np.random.normal(\n",
    "    loc=0, scale=white_noise_std, size=(num_timeseries, len(timeaxis))\n",
    ")\n",
    "white_noise_array2 = np.random.normal(\n",
    "    loc=0, scale=white_noise_std, size=(num_timeseries, len(timeaxis))\n",
    ")"
   ]
  },
  {
   "cell_type": "markdown",
   "id": "02a296a0",
   "metadata": {},
   "source": [
    "Choice 2: Gillespie noise"
   ]
  },
  {
   "cell_type": "code",
   "execution_count": null,
   "id": "49e0d400",
   "metadata": {},
   "outputs": [],
   "source": [
    "# SET PARAMETERS\n",
    "noise_timescale = 20\n",
    "noise_amp = 100\n",
    "gill_time_final = 7500\n",
    "gill_num_intervals = 5000"
   ]
  },
  {
   "cell_type": "code",
   "execution_count": null,
   "id": "331c7967",
   "metadata": {},
   "outputs": [],
   "source": [
    "# GENERATE noise array\n",
    "gill_noise_array = gillespie_noise(\n",
    "    num_timeseries=num_timeseries,\n",
    "    num_timepoints=len(timeaxis),\n",
    "    noise_timescale=noise_timescale,\n",
    "    noise_amp=noise_amp,\n",
    "    time_final=gill_time_final,\n",
    "    grid_num_intervals=gill_num_intervals,\n",
    ")"
   ]
  },
  {
   "cell_type": "code",
   "execution_count": null,
   "id": "ec4e8bc8",
   "metadata": {},
   "outputs": [],
   "source": [
    "# Filename generator\n",
    "deathrate = 1 / noise_timescale\n",
    "birthrate = noise_amp / noise_timescale\n",
    "deathrate_str = str(deathrate).replace(\".\", \"p\")\n",
    "birthrate_str = str(birthrate).replace(\".\", \"p\")\n",
    "gill_noise_filename = \"gillespienoise_k\" + birthrate_str + \"_d\" + deathrate_str + \".csv\""
   ]
  },
  {
   "cell_type": "code",
   "execution_count": null,
   "id": "a8d7a3c2-581c-4b67-b4b3-a9dd9ac51ce2",
   "metadata": {},
   "outputs": [],
   "source": [
    "# LOAD noise array\n",
    "gill_noise_array = np.genfromtxt(gill_noise_filename, delimiter=\",\")"
   ]
  },
  {
   "cell_type": "code",
   "execution_count": null,
   "id": "0ad813b7-6d92-431d-a56d-7df565e231ef",
   "metadata": {},
   "outputs": [],
   "source": [
    "# SAVE noise array\n",
    "np.savetxt(gill_noise_filename, gill_noise_array, delimiter=\",\")"
   ]
  },
  {
   "cell_type": "markdown",
   "id": "60d997a9",
   "metadata": {},
   "source": [
    "Step 4: Assign signal and noisy arrays, then construct final dataframes"
   ]
  },
  {
   "cell_type": "markdown",
   "id": "c5993012",
   "metadata": {},
   "source": [
    "Step 4.1: Assign signal arrays"
   ]
  },
  {
   "cell_type": "code",
   "execution_count": null,
   "id": "5b396822",
   "metadata": {},
   "outputs": [],
   "source": [
    "signal_array1 = sinusoid_array\n",
    "signal_array2 = fitzhugh_nagumo_array"
   ]
  },
  {
   "cell_type": "markdown",
   "id": "f92cac4f",
   "metadata": {},
   "source": [
    "Step 4.2: Assign noise arrays"
   ]
  },
  {
   "cell_type": "code",
   "execution_count": null,
   "id": "597d9059",
   "metadata": {},
   "outputs": [],
   "source": [
    "noise_array1 = gill_noise_array\n",
    "\n",
    "noise_array2 = gill_noise_array.copy()\n",
    "rng = np.random.default_rng()\n",
    "rng.shuffle(noise_array2)"
   ]
  },
  {
   "cell_type": "markdown",
   "id": "dd5a3097",
   "metadata": {},
   "source": [
    "Step 4.3: Add signal and noise"
   ]
  },
  {
   "cell_type": "code",
   "execution_count": null,
   "id": "caf83d3f",
   "metadata": {},
   "outputs": [],
   "source": [
    "signal_array1 = signal_array1 #+ noise_array1\n",
    "signal_array2 = signal_array2 #+ noise_array2"
   ]
  },
  {
   "cell_type": "markdown",
   "id": "a1b9bdb8",
   "metadata": {},
   "source": [
    "Step 4.4: Construct dataframes for correlation processes"
   ]
  },
  {
   "cell_type": "code",
   "execution_count": null,
   "id": "2f473c81",
   "metadata": {},
   "outputs": [],
   "source": [
    "signal_df1 = pd.DataFrame(signal_array1)\n",
    "signal_df2 = pd.DataFrame(signal_array2)"
   ]
  },
  {
   "cell_type": "markdown",
   "id": "24d6b8fd",
   "metadata": {},
   "source": [
    "Step 5: Autocorrelation & cross-correlation"
   ]
  },
  {
   "cell_type": "markdown",
   "id": "4f14b4af",
   "metadata": {},
   "source": [
    "Autocorrelation"
   ]
  },
  {
   "cell_type": "code",
   "execution_count": null,
   "id": "b2a997f8",
   "metadata": {},
   "outputs": [],
   "source": [
    "autocorr_result = crosscorr.as_function(\n",
    "    signal_df1, stationary=False, normalised=True, only_pos=True\n",
    ")"
   ]
  },
  {
   "cell_type": "markdown",
   "id": "3d63adf5",
   "metadata": {},
   "source": [
    "Cross-correlation"
   ]
  },
  {
   "cell_type": "code",
   "execution_count": null,
   "id": "b5dde732",
   "metadata": {},
   "outputs": [],
   "source": [
    "crosscorr_result = crosscorr.as_function(signal_df1, signal_df2)"
   ]
  },
  {
   "cell_type": "markdown",
   "id": "45c657f3",
   "metadata": {},
   "source": [
    "Mean across replicates"
   ]
  },
  {
   "cell_type": "code",
   "execution_count": null,
   "id": "0c7f6067",
   "metadata": {},
   "outputs": [],
   "source": [
    "mean_across_replicates = np.nanmean(signal_array1, axis=0).reshape(\n",
    "    (1, signal_array1.shape[1])\n",
    ")\n",
    "mean_across_replicates = mean_across_replicates.T"
   ]
  },
  {
   "cell_type": "markdown",
   "id": "dcffbc23",
   "metadata": {},
   "source": [
    "PLOTTING"
   ]
  },
  {
   "cell_type": "markdown",
   "id": "9a18d562",
   "metadata": {},
   "source": [
    "input data"
   ]
  },
  {
   "cell_type": "code",
   "execution_count": null,
   "id": "aa9b98b9",
   "metadata": {},
   "outputs": [],
   "source": [
    "sns.heatmap(signal_df1)"
   ]
  },
  {
   "cell_type": "code",
   "execution_count": null,
   "id": "c1814f97",
   "metadata": {},
   "outputs": [],
   "source": [
    "sns.heatmap(signal_df2)"
   ]
  },
  {
   "cell_type": "markdown",
   "id": "28f713e1",
   "metadata": {},
   "source": [
    "gillespie noise"
   ]
  },
  {
   "cell_type": "code",
   "execution_count": null,
   "id": "7086200c",
   "metadata": {},
   "outputs": [],
   "source": [
    "gill_array = signal_array1\n",
    "fig, ax = plt.subplots(figsize=(12, 4))\n",
    "ax.plot(\n",
    "    mean_across_replicates,\n",
    "    linewidth=3,\n",
    "    label=f\"mean across {gill_array.shape[0]} replicates\",\n",
    ")\n",
    "ax.plot(gill_array[0], linewidth=1, label=\"replicate 1\")\n",
    "ax.plot(gill_array[1], linewidth=1, label=\"replicate 2\")\n",
    "ax.set_xlabel(\"Time point\")\n",
    "ax.set_ylabel(\"Signal\")\n",
    "fig.legend()"
   ]
  },
  {
   "cell_type": "markdown",
   "id": "86bfbc9e",
   "metadata": {},
   "source": [
    "acf of signals with gillespie noise, with options"
   ]
  },
  {
   "cell_type": "code",
   "execution_count": null,
   "id": "c71419c3",
   "metadata": {},
   "outputs": [],
   "source": [
    "fit_exp_decay = True\n",
    "scale_lag_by_pd = True\n",
    "freq = 0.03\n",
    "\n",
    "fig, ax = plt.subplots()\n",
    "\n",
    "# scale lag axis by sinusoid period\n",
    "autocorr_result_scaled = autocorr_result.copy()\n",
    "if scale_lag_by_pd:\n",
    "    freq = freq\n",
    "    xlabel = \"Lag (periods)\"\n",
    "    plt.vlines(x=[1, 2, 3, 4], ymin=-1, ymax=1, ls=\"--\")\n",
    "else:\n",
    "    freq = 1\n",
    "    xlabel = \"Lag (time points)\"\n",
    "autocorr_result_scaled.columns *= freq\n",
    "\n",
    "# fit exp decay\n",
    "if fit_exp_decay:\n",
    "    decayrate = (gill_time_final / (gill_num_intervals - 1)) * (1 / noise_timescale)\n",
    "    t = autocorr_result.columns.to_numpy()\n",
    "    decay_function = np.exp(-(decayrate) * t)\n",
    "    ax.plot(t * freq, decay_function, color=\"r\")\n",
    "\n",
    "# draw acf\n",
    "simple_median_plot(\n",
    "    autocorr_result_scaled,\n",
    "    xlabel=xlabel,\n",
    "    ylabel=\"Autocorrelation function\",\n",
    "    ax=ax,\n",
    ")\n",
    "# and axes\n",
    "plt.axhline(0, color=\"k\")\n",
    "plt.axvline(0, color=\"k\")"
   ]
  },
  {
   "cell_type": "markdown",
   "id": "dbbe9221",
   "metadata": {},
   "source": [
    "at longer lags, fewer data points are used to compute acf, and thus the std dev across replicate acfs at those points are greater"
   ]
  },
  {
   "cell_type": "code",
   "execution_count": null,
   "id": "64c6ef9e",
   "metadata": {},
   "outputs": [],
   "source": [
    "lag = np.linspace(0, 499, 500)\n",
    "num_datapoints = signal_array1.shape[1] * np.linspace(500, 1, 500)\n",
    "acf_variation = np.std(autocorr_result)\n",
    "\n",
    "fig, ax = plt.subplots()\n",
    "ax.plot(num_datapoints, acf_variation)\n",
    "ax.set_xlabel(\"Number of data points used at lag value\")\n",
    "ax.set_ylabel(\"Standard deviation of\\nautocorrelation function values at lag value\")"
   ]
  },
  {
   "cell_type": "markdown",
   "id": "2c41b81f",
   "metadata": {},
   "source": [
    "variation between acfs, expressed as area the curve of std dev change over lag time"
   ]
  },
  {
   "cell_type": "code",
   "execution_count": null,
   "id": "15e697ad",
   "metadata": {},
   "outputs": [],
   "source": [
    "std_array = autocorr_result.std(axis=0)\n",
    "plt.plot(std_array)\n",
    "auc = np.trapz(std_array)\n",
    "print(auc)"
   ]
  },
  {
   "cell_type": "markdown",
   "id": "2774ab0c",
   "metadata": {},
   "source": [
    "envelope function"
   ]
  },
  {
   "cell_type": "code",
   "execution_count": null,
   "id": "b9ec46c0",
   "metadata": {
    "lines_to_next_cell": 1
   },
   "outputs": [],
   "source": [
    "# find peaks & troughs\n",
    "mean_acf_df = autocorr_result.mean().to_frame().T\n",
    "peaks_df = findpeaks.as_function(mean_acf_df)\n",
    "troughs_df = findpeaks.as_function(-mean_acf_df)\n",
    "\n",
    "# datatype conversions\n",
    "timeaxis = mean_acf_df.columns.to_numpy()\n",
    "mean_acf = mean_acf_df.to_numpy()[0]\n",
    "peaks_mask = peaks_df.to_numpy()[0] != 0\n",
    "troughs_mask = troughs_df.to_numpy()[0] != 0"
   ]
  },
  {
   "cell_type": "code",
   "execution_count": null,
   "id": "b1e918f7",
   "metadata": {},
   "outputs": [],
   "source": [
    "# https://stackoverflow.com/questions/3938042/fitting-exponential-decay-with-no-initial-guessing\n",
    "def model_func(t, A, K, C):\n",
    "    return A * np.exp(-K * t) + C\n",
    "\n",
    "\n",
    "def fit_exp_linear(t, y, C=0):\n",
    "    y = y - C\n",
    "    y = np.log(y)\n",
    "    K, A_log = np.polyfit(t, y, 1)\n",
    "    A = np.exp(A_log)\n",
    "    return A, K\n",
    "\n",
    "\n",
    "def fit_exp_nonlinear(t, y, p0):\n",
    "    opt_parms, parm_cov = sp.optimize.curve_fit(model_func, t, y, p0, maxfev=1000)\n",
    "    A, K, C = opt_parms\n",
    "    return A, K, C\n",
    "\n",
    "\n",
    "# initial guess is the decay function in acf plot\n",
    "central_decay_rate = (gill_time_final / (gill_num_intervals - 1)) * (\n",
    "    1 / noise_timescale\n",
    ")\n",
    "initial_A = 1\n",
    "initial_K = central_decay_rate\n",
    "initial_C = 0\n",
    "initial_guess = [initial_A, initial_K, initial_C]\n",
    "\n",
    "# fit peaks\n",
    "upper_A, upper_K, upper_C = fit_exp_nonlinear(\n",
    "    timeaxis[peaks_mask],\n",
    "    mean_acf[peaks_mask],\n",
    "    p0=initial_guess,\n",
    ")\n",
    "upper_func = model_func(timeaxis, upper_A, upper_K, upper_C)\n",
    "\n",
    "# fit troughs\n",
    "lower_A, lower_K, lower_C = fit_exp_nonlinear(\n",
    "    timeaxis[troughs_mask],\n",
    "    -mean_acf[troughs_mask],\n",
    "    p0=initial_guess,\n",
    ")\n",
    "lower_func = -model_func(timeaxis, lower_A, lower_K, lower_C)"
   ]
  },
  {
   "cell_type": "code",
   "execution_count": null,
   "id": "8b9674da",
   "metadata": {},
   "outputs": [],
   "source": [
    "plt.plot(timeaxis, mean_acf)\n",
    "plt.scatter(timeaxis[peaks_mask], mean_acf[peaks_mask])\n",
    "plt.scatter(timeaxis[troughs_mask], mean_acf[troughs_mask])\n",
    "plt.plot(timeaxis, upper_func)\n",
    "plt.plot(timeaxis, lower_func)\n",
    "\n",
    "print(f\"upper envelope: {upper_A:.4f} * exp(- {upper_K:.4f}) + {upper_C:.4f}\")\n",
    "print(f\"lower envelope: {lower_A:.4f} * exp(- {lower_K:.4f}) + {lower_C:.4f}\")"
   ]
  },
  {
   "cell_type": "markdown",
   "id": "c1835a5c",
   "metadata": {},
   "source": [
    "cross-correlation"
   ]
  },
  {
   "cell_type": "code",
   "execution_count": null,
   "id": "e510ade7",
   "metadata": {},
   "outputs": [],
   "source": [
    "ts1 = signal_df1.iloc[0].to_numpy()\n",
    "ts2 = signal_df2.iloc[0].to_numpy()\n",
    "\n",
    "tps = signal_df1.columns.to_numpy()\n",
    "signal_df1_peaks = findpeaks.as_function(signal_df1)\n",
    "signal_df2_peaks = findpeaks.as_function(signal_df2)\n",
    "peaks1 = signal_df1_peaks.iloc[0].to_numpy() == 1\n",
    "peaks2 = signal_df2_peaks.iloc[0].to_numpy() == 1\n",
    "\n",
    "fig, ax = plt.subplots(figsize=(12,4))\n",
    "\n",
    "ax.plot(ts1, label='sinusoid')\n",
    "ax.plot(ts2, label='FitzHugh-Nagumo')\n",
    "\n",
    "ax.scatter(tps[peaks1], ts1[peaks1])\n",
    "ax.scatter(tps[peaks2], ts2[peaks2])\n",
    "\n",
    "ax.set_xlabel(\"Time point\")\n",
    "ax.set_ylabel(\"Signal\")\n",
    "\n",
    "fig.legend()"
   ]
  },
  {
   "cell_type": "code",
   "execution_count": null,
   "id": "0efdb47d-a72c-449c-8ec3-d221484c8c9b",
   "metadata": {},
   "outputs": [],
   "source": [
    "tps[peaks1]"
   ]
  },
  {
   "cell_type": "code",
   "execution_count": null,
   "id": "d061e230-708c-4336-883f-8e0f8218a244",
   "metadata": {},
   "outputs": [],
   "source": [
    "tps[peaks2]"
   ]
  },
  {
   "cell_type": "code",
   "execution_count": null,
   "id": "7c0c92a5-525a-4350-9a32-c5f5f3dac914",
   "metadata": {},
   "outputs": [],
   "source": [
    "np.mean(tps[peaks2] - tps[peaks1])"
   ]
  },
  {
   "cell_type": "code",
   "execution_count": null,
   "id": "9ee6225f",
   "metadata": {},
   "outputs": [],
   "source": [
    "simple_median_plot(\n",
    "    crosscorr_result, ylabel=\"Cross correlation\", xlabel=\"Lag (time points)\"\n",
    ")\n",
    "plt.axhline(0, color=\"k\")\n",
    "plt.axvline(0, color=\"k\")"
   ]
  },
  {
   "cell_type": "code",
   "execution_count": null,
   "id": "f303dae1-f20b-44b6-9ee8-9b0bdfb93616",
   "metadata": {},
   "outputs": [],
   "source": [
    "lags = crosscorr_result.columns.to_numpy()"
   ]
  },
  {
   "cell_type": "code",
   "execution_count": null,
   "id": "d083b9a4-df26-494c-bc5e-2d09e4ae2571",
   "metadata": {},
   "outputs": [],
   "source": [
    "xcf_peaks_df = findpeaks.as_function(crosscorr_result.median().to_frame().T)"
   ]
  },
  {
   "cell_type": "code",
   "execution_count": null,
   "id": "4873373f-ca6a-4e5e-b230-00187c981abe",
   "metadata": {},
   "outputs": [],
   "source": [
    "xcf_peaks = xcf_peaks_df.to_numpy().ravel() == 1"
   ]
  },
  {
   "cell_type": "code",
   "execution_count": null,
   "id": "454cb412-2def-4df3-aa3d-4423c7698d81",
   "metadata": {},
   "outputs": [],
   "source": [
    "lags[xcf_peaks]"
   ]
  }
 ],
 "metadata": {
  "jupytext": {
   "cell_metadata_filter": "title,-all",
   "executable": "/usr/bin/env python3",
   "main_language": "python",
   "notebook_metadata_filter": "-all"
  },
  "kernelspec": {
   "display_name": "aliby",
   "language": "python",
   "name": "aliby"
  },
  "language_info": {
   "codemirror_mode": {
    "name": "ipython",
    "version": 3
   },
   "file_extension": ".py",
   "mimetype": "text/x-python",
   "name": "python",
   "nbconvert_exporter": "python",
   "pygments_lexer": "ipython3",
   "version": "3.8.14"
  }
 },
 "nbformat": 4,
 "nbformat_minor": 5
}
